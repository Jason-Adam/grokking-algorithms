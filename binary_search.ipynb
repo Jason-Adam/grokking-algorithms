{
 "cells": [
  {
   "cell_type": "markdown",
   "metadata": {},
   "source": [
    "# Module 1 - Comparing Search Algorithm Performance  \n",
    "\n",
    "## Binary Search  \n",
    "Binary search is one of the simplest algorithms. It is designed to find a value within a sorted list by cutting the list in half at every iteration until the value has been found. It has a Big O runtime of $O(\\log_2{N})$. This means that the worst case number of operations needed to find a value grows at a logarithmic rate. This is compared to a simple search that checks every item in the list until it finds the desired value. It has a Big O runtime of $O(N)$. The simple search operations grow linearly with the amount of items being searched.  \n",
    "\n",
    "Let's start off by building each algorithm, and then we'll compare search times and plot their runtimes."
   ]
  },
  {
   "cell_type": "markdown",
   "metadata": {},
   "source": [
    "## Imports"
   ]
  },
  {
   "cell_type": "code",
   "execution_count": 37,
   "metadata": {},
   "outputs": [
    {
     "name": "stdout",
     "output_type": "stream",
     "text": [
      "The blackcellmagic extension is already loaded. To reload it, use:\n",
      "  %reload_ext blackcellmagic\n"
     ]
    }
   ],
   "source": [
    "import functools\n",
    "from math import floor\n",
    "import time\n",
    "from typing import Tuple\n",
    "\n",
    "import matplotlib.pyplot as plt\n",
    "import numpy as np\n",
    "import pandas as pd\n",
    "\n",
    "%load_ext blackcellmagic"
   ]
  },
  {
   "cell_type": "code",
   "execution_count": 26,
   "metadata": {},
   "outputs": [],
   "source": [
    "class TimeFunc:\n",
    "    \"\"\"Decorator to return run time of function in seconds.\"\"\"\n",
    "    def __init__(self, func):\n",
    "        functools.update_wrapper(self, func)\n",
    "        self.func = func\n",
    "        self.func_time = 0\n",
    "        \n",
    "    def __call__(self, *args, **kwargs):\n",
    "        start_time = time.perf_counter()\n",
    "        result = self.func(*args, **kwargs)\n",
    "        end_time = time.perf_counter()\n",
    "        run_time = end_time - start_time\n",
    "        self.func_time = run_time\n",
    "        return result"
   ]
  },
  {
   "cell_type": "markdown",
   "metadata": {},
   "source": [
    "## 1 & 2 - Generate Random Arrays (Sorted)"
   ]
  },
  {
   "cell_type": "code",
   "execution_count": 44,
   "metadata": {},
   "outputs": [],
   "source": [
    "@TimeFunc\n",
    "def new_array(length: int) -> np.array:\n",
    "    \"\"\"Return sorted numpy array.\n",
    "    \n",
    "    Parameters\n",
    "    ----------\n",
    "    length: int\n",
    "        The length of the generated array.\n",
    "        \n",
    "    Returns\n",
    "    -------\n",
    "    np.array\n",
    "        Sorted numpy array.\n",
    "    \"\"\"\n",
    "    return np.sort(np.random.randint(1, 10001, length), kind=\"mergesort\")\n",
    "\n",
    "\n",
    "a1 = new_array(length=512)\n",
    "a1_sort = new_array.func_time\n",
    "\n",
    "a2 = new_array(length=1024)\n",
    "a2_sort = new_array.func_time\n",
    "\n",
    "a3 = new_array(length=2048)\n",
    "a3_sort = new_array.func_time\n",
    "\n",
    "a4 = new_array(length=4096)\n",
    "a4_sort = new_array.func_time\n",
    "\n",
    "a5 = new_array(length=8192)\n",
    "a5_sort = new_array.func_time"
   ]
  },
  {
   "cell_type": "markdown",
   "metadata": {},
   "source": [
    "## 3 - Execute Binary Search for Each Array"
   ]
  },
  {
   "cell_type": "markdown",
   "metadata": {},
   "source": [
    "### Function Creation  \n",
    "Below I've annotated the binary search function quite a bit to keep track of what's going on. The sorted list is cut in half, and the halfway point is guessed. If the guess is higher than the actual value, the new high value is changed to one less than the mid-point. If the guess is lower, the new low is set to one greater than the mid. This continues until the value is found.  Each iteration halves the list.  \n",
    "\n",
    "The simple search algorithms iterates through the list until it finds the value. While this is efficient in small lists, as we'll see in the next section, it slows down considerably as the list grows. This is where the binary search algorithm shines."
   ]
  },
  {
   "cell_type": "code",
   "execution_count": 31,
   "metadata": {},
   "outputs": [],
   "source": [
    "@TimeFunc\n",
    "def binary_search(sorted_array: np.array, item: int) -> Tuple[int, int]:\n",
    "    \"\"\"Perform Binary search on sorted array.\n",
    "    \n",
    "    Parameters\n",
    "    ----------\n",
    "    sorted_array: np.array\n",
    "        Sorted numpy array to be searched.\n",
    "    item: int\n",
    "        The value to search for in the array.\n",
    "        \n",
    "    Returns\n",
    "    -------\n",
    "    Tuple[int, int]\n",
    "        First value is the target item.\n",
    "        Second value is the number of steps to get\n",
    "        the target item.\n",
    "    \"\"\"\n",
    "    low: int = 0\n",
    "    high: int = len(sorted_array) - 1\n",
    "    steps: int = 0\n",
    "    while low <= high:\n",
    "        # Cut the list in half\n",
    "        mid: int = floor((low + high) / 2)\n",
    "        # Guess the midway point\n",
    "        guess: int = sorted_array[mid]\n",
    "        if guess == item:\n",
    "            steps += 1\n",
    "            return mid, steps\n",
    "        # If midway point is higher, make\n",
    "        # new high one less than mid-point\n",
    "        elif guess > item:\n",
    "            steps += 1\n",
    "            high = mid - 1\n",
    "        # If midway point lower, make\n",
    "        # new high one higher than mid-point\n",
    "        else:\n",
    "            steps += 1\n",
    "            low = mid + 1\n",
    "    return None, None\n",
    "\n",
    "\n",
    "@TimeFunc\n",
    "def simple_search(sorted_array: np.array, item: int) -> Tuple[int, int]:\n",
    "    \"\"\"Perform a simple search on an array.\n",
    "    \n",
    "    Parameters\n",
    "    ----------\n",
    "    sorted_array: np.array\n",
    "        Sorted numpy array to be searched.\n",
    "    item: int\n",
    "        The value to search for in the array.\n",
    "        \n",
    "    Returns\n",
    "    -------\n",
    "    Tuple[int, int]\n",
    "        First value is the target item.\n",
    "        Second value is the number of steps to get\n",
    "        the target item.\n",
    "    \"\"\"\n",
    "    start = 0\n",
    "    steps = 0\n",
    "    while sorted_array[start] <= item:\n",
    "        guess = sorted_array[start]\n",
    "        if guess == item:\n",
    "            steps += 1\n",
    "            return start, steps\n",
    "        else:\n",
    "            steps += 1\n",
    "            start += 1\n",
    "    return None, None"
   ]
  },
  {
   "cell_type": "markdown",
   "metadata": {},
   "source": [
    "## 4 - Compare"
   ]
  },
  {
   "cell_type": "code",
   "execution_count": 64,
   "metadata": {},
   "outputs": [
    {
     "data": {
      "text/html": [
       "<div>\n",
       "<style scoped>\n",
       "    .dataframe tbody tr th:only-of-type {\n",
       "        vertical-align: middle;\n",
       "    }\n",
       "\n",
       "    .dataframe tbody tr th {\n",
       "        vertical-align: top;\n",
       "    }\n",
       "\n",
       "    .dataframe thead th {\n",
       "        text-align: right;\n",
       "    }\n",
       "</style>\n",
       "<table border=\"1\" class=\"dataframe\">\n",
       "  <thead>\n",
       "    <tr style=\"text-align: right;\">\n",
       "      <th></th>\n",
       "      <th>array_length</th>\n",
       "      <th>sort_time</th>\n",
       "      <th>linear_time</th>\n",
       "      <th>binary_time</th>\n",
       "      <th>sort_plus_binary</th>\n",
       "    </tr>\n",
       "  </thead>\n",
       "  <tbody>\n",
       "    <tr>\n",
       "      <th>0</th>\n",
       "      <td>512</td>\n",
       "      <td>0.384198</td>\n",
       "      <td>0.296568</td>\n",
       "      <td>0.013205</td>\n",
       "      <td>0.397403</td>\n",
       "    </tr>\n",
       "    <tr>\n",
       "      <th>1</th>\n",
       "      <td>1024</td>\n",
       "      <td>0.132567</td>\n",
       "      <td>0.617546</td>\n",
       "      <td>0.010048</td>\n",
       "      <td>0.142615</td>\n",
       "    </tr>\n",
       "    <tr>\n",
       "      <th>2</th>\n",
       "      <td>2048</td>\n",
       "      <td>0.305702</td>\n",
       "      <td>1.297695</td>\n",
       "      <td>0.013629</td>\n",
       "      <td>0.319331</td>\n",
       "    </tr>\n",
       "    <tr>\n",
       "      <th>3</th>\n",
       "      <td>4096</td>\n",
       "      <td>0.354252</td>\n",
       "      <td>2.529339</td>\n",
       "      <td>0.012463</td>\n",
       "      <td>0.366715</td>\n",
       "    </tr>\n",
       "    <tr>\n",
       "      <th>4</th>\n",
       "      <td>8192</td>\n",
       "      <td>0.614611</td>\n",
       "      <td>5.075358</td>\n",
       "      <td>0.014924</td>\n",
       "      <td>0.629535</td>\n",
       "    </tr>\n",
       "  </tbody>\n",
       "</table>\n",
       "</div>"
      ],
      "text/plain": [
       "   array_length  sort_time  linear_time  binary_time  sort_plus_binary\n",
       "0           512   0.384198     0.296568     0.013205          0.397403\n",
       "1          1024   0.132567     0.617546     0.010048          0.142615\n",
       "2          2048   0.305702     1.297695     0.013629          0.319331\n",
       "3          4096   0.354252     2.529339     0.012463          0.366715\n",
       "4          8192   0.614611     5.075358     0.014924          0.629535"
      ]
     },
     "execution_count": 64,
     "metadata": {},
     "output_type": "execute_result"
    }
   ],
   "source": [
    "def create_compare_df() -> pd.DataFrame:\n",
    "    \"\"\"Generate comparison dataframe for algorithms.\n",
    "    \n",
    "    Returns\n",
    "    -------\n",
    "    pd.DataFrame\n",
    "        Pandas data frame containing time metrics for\n",
    "        each search and sort algorithm.\n",
    "    \"\"\"\n",
    "    compare: dict = {\n",
    "        \"array_length\": [],\n",
    "        \"sort_time\": [],\n",
    "        \"linear_time\": [],\n",
    "        \"binary_time\": [],\n",
    "        \"sort_plus_binary\": [],\n",
    "    }\n",
    "\n",
    "    sizes: list = [512, 1024, 2048, 4096, 8192]\n",
    "\n",
    "    for i in sizes:\n",
    "        compare[\"array_length\"].append(i)\n",
    "        a = new_array(i)\n",
    "        compare[\"sort_time\"].append(new_array.func_time)\n",
    "        b_search = binary_search(a, np.max(a))\n",
    "        compare[\"binary_time\"].append(binary_search.func_time)\n",
    "        ss = simple_search(a, np.max(a))\n",
    "        compare[\"linear_time\"].append(simple_search.func_time)\n",
    "        compare[\"sort_plus_binary\"].append(\n",
    "            new_array.func_time + binary_search.func_time\n",
    "        )\n",
    "\n",
    "    df: pd.DataFrame = pd.DataFrame(compare)\n",
    "    df.sort_time = df.sort_time.apply(lambda t: t * 1000)\n",
    "    df.linear_time = df.linear_time.apply(lambda t: t * 1000)\n",
    "    df.binary_time = df.binary_time.apply(lambda t: t * 1000)\n",
    "    df.sort_plus_binary = df.sort_plus_binary.apply(lambda t: t * 1000)\n",
    "\n",
    "    return df\n",
    "\n",
    "\n",
    "# Display the dataframe\n",
    "cdf = create_compare_df()\n",
    "cdf.head()"
   ]
  },
  {
   "cell_type": "markdown",
   "metadata": {},
   "source": [
    "## 5 - Plotting Time vs Array Length"
   ]
  },
  {
   "cell_type": "code",
   "execution_count": 65,
   "metadata": {},
   "outputs": [
    {
     "data": {
      "image/png": "[encoded data removed]",
      "text/plain": [
       "<Figure size 720x360 with 1 Axes>"
      ]
     },
     "metadata": {
      "needs_background": "light"
     },
     "output_type": "display_data"
    }
   ],
   "source": [
    "fig, ax = plt.subplots(figsize=(10, 5))\n",
    "\n",
    "ax.plot(cdf.array_length, cdf.binary_time, color=\"darkgreen\")\n",
    "ax.plot(cdf.array_length, cdf.linear_time, color=\"red\")\n",
    "ax.set_title(\"Binary Search vs Simple Search\")\n",
    "ax.set_ylabel(\"Time (Milliseconds)\")\n",
    "ax.set_xlabel(\"Array Length\")\n",
    "ax.legend([\"Binary Search O(log2 N)\", \"Simple Search O(N)\"])\n",
    "\n",
    "plt.show()"
   ]
  },
  {
   "cell_type": "markdown",
   "metadata": {},
   "source": [
    "The disparity between these two algorithms is quite apparent when they are visualized on the same scale. The binary search algorithm immediately outperforms the simple search and the gap between the two only widens as the array grows in size."
   ]
  },
  {
   "cell_type": "markdown",
   "metadata": {},
   "source": [
    "## 6 - All Times"
   ]
  },
  {
   "cell_type": "code",
   "execution_count": 66,
   "metadata": {},
   "outputs": [
    {
     "data": {
      "image/png": "[encoded data removed]",
      "text/plain": [
       "<Figure size 720x360 with 1 Axes>"
      ]
     },
     "metadata": {
      "needs_background": "light"
     },
     "output_type": "display_data"
    }
   ],
   "source": [
    "fig, ax = plt.subplots(figsize=(10, 5))\n",
    "\n",
    "ax.plot(cdf.array_length, cdf.binary_time, color=\"darkgreen\")\n",
    "ax.plot(cdf.array_length, cdf.linear_time, color=\"red\")\n",
    "ax.plot(cdf.array_length, cdf.sort_time, color=\"blue\")\n",
    "ax.plot(cdf.array_length, cdf.sort_plus_binary, color=\"orange\")\n",
    "ax.set_title(\"Sorting & Searching Times vs Array Length\")\n",
    "ax.set_ylabel(\"Time (Milliseconds)\")\n",
    "ax.set_xlabel(\"Array Length\")\n",
    "ax.legend(\n",
    "    [\n",
    "        \"Binary Search O(log2 N)\",\n",
    "        \"Simple Search O(N)\",\n",
    "        \"Sort Array (Mergesort)\",\n",
    "        \"Sort + Binary Search\",\n",
    "    ]\n",
    ")\n",
    "\n",
    "plt.show()"
   ]
  },
  {
   "cell_type": "markdown",
   "metadata": {},
   "source": [
    "I chose the mergesort algorithm for sorting the randomly generated arrays. We can see that the sorting algorithm makes up the majority of the time when combined with the binary search due to the fact that the binary search has a logarithmic run-time. It's interesting that the mergesort algorithm pivots around the 1000 mark (array size). When plotted on the same scale, it becomes glaringly obvious that the binary search outperforms a simple search on a sorted array."
   ]
  },
  {
   "cell_type": "markdown",
   "metadata": {},
   "source": [
    "# Executive Summary\n",
    "\n",
    "## Binary Search  \n",
    "Binary search is one of the simplest algorithms. It is designed to find a value within a sorted list by cutting the list in half at every iteration until the value has been found. It has a Big O runtime of $O(\\log_2{N})$. This means that the worst case number of operations needed to find a value grows at a logarithmic rate. This is compared to a simple search that checks every item in the list until it finds the desired value. It has a Big O runtime of $O(N)$. The simple search operations grow linearly with the amount of items being searched.  "
   ]
  },
  {
   "cell_type": "markdown",
   "metadata": {},
   "source": [
    "## Recap  \n",
    "* Binary search is a lot faster than simple search.  \n",
    "* $O(\\log_2 N)$ is faster than $O(N)$, but it gets a lot faster once the list of items you're searching through grows.  \n",
    "* Algorithm speed isn't measured in seonds.  \n",
    "* Algorithm times are measured in terms of growth of an algorithm.  \n",
    "* Algorithm times are written in Big O notation.  \n",
    "\n",
    "### Reference  \n",
    "[1] Bhargava, A. Y. (2016). Grokking algorithms: An illustrated guide for programmers and other curious people."
   ]
  }
 ],
 "metadata": {
  "kernelspec": {
   "display_name": "msds-432",
   "language": "python",
   "name": "msds-432"
  },
  "language_info": {
   "codemirror_mode": {
    "name": "ipython",
    "version": 3
   },
   "file_extension": ".py",
   "mimetype": "text/x-python",
   "name": "python",
   "nbconvert_exporter": "python",
   "pygments_lexer": "ipython3",
   "version": "3.7.3"
  }
 },
 "nbformat": 4,
 "nbformat_minor": 4
}
