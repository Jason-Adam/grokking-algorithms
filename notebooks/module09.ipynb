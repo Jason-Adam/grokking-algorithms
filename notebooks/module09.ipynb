{
 "cells": [
  {
   "cell_type": "markdown",
   "metadata": {},
   "source": [
    "# MSDS-432: Module 9 - Implement Dynamic Programming  \n",
    "Jason Adam  \n",
    "\n",
    "## Imports"
   ]
  },
  {
   "cell_type": "code",
   "execution_count": 6,
   "metadata": {},
   "outputs": [
    {
     "name": "stdout",
     "output_type": "stream",
     "text": [
      "The blackcellmagic extension is already loaded. To reload it, use:\n",
      "  %reload_ext blackcellmagic\n"
     ]
    }
   ],
   "source": [
    "from typing import List\n",
    "%load_ext blackcellmagic"
   ]
  },
  {
   "cell_type": "markdown",
   "metadata": {},
   "source": [
    "## Cutting a Rod  \n",
    "Given a rod of length n inches and an array of prices that contains prices of all pieces of size smaller than n. Determine the maximum value obtainable by cutting up the rod and selling the pieces. For example, if length of the rod is 8 and the values of different pieces are given as following then the maximum obtainable value is 22 (by cutting in two pieces of lengths 2 and 6). \n",
    "\n",
    "![](../imgs/dp_01.jpg)\n",
    "\n",
    "If the prices are as following, then the maximum obtainable value is 24 (by cutting in eight pieces of length 1) then the maximum obtainable value is 22 (by cutting in two pieces of lengths 2 and 6). If the prices are as following, then the maximum obtainable value is 24 (by cutting in eight pieces of length 1).  \n",
    "\n",
    "![](../imgs/dp_02.jpg)  \n",
    "\n",
    "According to Geeks for Geeks, this problem contains both properties for effectively utilizing dynamic programming:  \n",
    "1. Optimal substructure - We can get the best price by making a cut at different positions and comparing the values obtained after a cut. We can recursively call the same function for a piece obtained after a cut.  \n",
    "2. Overlapping Subproblems."
   ]
  },
  {
   "cell_type": "code",
   "execution_count": 75,
   "metadata": {},
   "outputs": [],
   "source": [
    "# Returns the best obtainable price for a rod of length n and\n",
    "# price[] as prices of different pieces\n",
    "def cut_rod(prices: List[int]) -> int:\n",
    "    rod_length: int = len(prices)\n",
    "    int_min: int = -1\n",
    "    # Create list of zeros\n",
    "    val: list = [0 for x in range(rod_length + 1)]\n",
    "    # Build values from bottom up and return final value\n",
    "    for length in range(1, rod_length + 1):\n",
    "        max_price: int = int_min\n",
    "        for piece in range(length):\n",
    "            max_price: int = max(max_price, prices[piece] + val[length - piece - 1])\n",
    "        val[length] = max_price\n",
    "    return val[rod_length]"
   ]
  },
  {
   "cell_type": "markdown",
   "metadata": {},
   "source": [
    "At first glance the algorithm looks like it's not doing much, but on closer examination, it's building up the best value as it iterates over the prices and lengths. The algorithm takes a list of prices as input and assumes that each price corresponds to a length of wire in ascending order starting at 1.  The algorithm then takes the following steps:  \n",
    "* Create value list that will be continually updated with new information.  \n",
    "* Loop through each possible length (1 - 8) and set max price to -1 for baseline.  \n",
    "* Loop through each value in said length (if length was 2, then algorithm uses 0, 1, 2) - piece variable in code.\n",
    "* Update max price:  \n",
    "    * Max of current max price and the price of the piece plus the value at the location in the val list of length minus piece minus 1.  \n",
    "    * This loop continues for each piece in the length. The best value at that length is written to the list.\n",
    "* After these two nested loops finish, the val list will have the best price listed as the final value.  \n",
    "\n",
    "This is a dynamic programming problem as it keeps track of the optimal solution at each length of the rod instead of processing it all over again or calling it recursively. This allows us to keep the complexity of the algorithm at $O(n^2)$ instead of a possible factorial situation if we were to take every combination of every length to find the best value."
   ]
  },
  {
   "cell_type": "code",
   "execution_count": 78,
   "metadata": {},
   "outputs": [],
   "source": [
    "# Simple test\n",
    "price_list_one = [1, 5, 8, 9, 10, 17, 17, 20] \n",
    "price_list_two = [3, 5, 8, 9, 10, 17, 17, 20]"
   ]
  },
  {
   "cell_type": "code",
   "execution_count": 79,
   "metadata": {},
   "outputs": [
    {
     "name": "stdout",
     "output_type": "stream",
     "text": [
      "The best price for list one is $22\n",
      "The best price for list two is $24\n"
     ]
    }
   ],
   "source": [
    "print(f\"The best price for list one is ${cut_rod(price_list_one)}\")\n",
    "print(f\"The best price for list two is ${cut_rod(price_list_two)}\")"
   ]
  },
  {
   "cell_type": "markdown",
   "metadata": {},
   "source": [
    "## Executive Summary  \n",
    "Overall, this type of solution can be used to quickly and efficiently solve smaller problems that would otherwise become intractable. A rod of 8 potential pieces doesn't have that many combinations, but the numbers grows quickly if the number of potential pieces increases. If data engineers have the baseline knowledge to spot a problem well-suited to a dynamic programming implementation, then the company can benefit tremendously from decreased processing time and increased throughput.\n",
    "\n",
    "### Reference  \n",
    "[1] Bhargava, A. Y. (2016). Grokking algorithms: An illustrated guide for programmers and other curious people."
   ]
  }
 ],
 "metadata": {
  "kernelspec": {
   "display_name": "msds-432",
   "language": "python",
   "name": "msds-432"
  },
  "language_info": {
   "codemirror_mode": {
    "name": "ipython",
    "version": 3
   },
   "file_extension": ".py",
   "mimetype": "text/x-python",
   "name": "python",
   "nbconvert_exporter": "python",
   "pygments_lexer": "ipython3",
   "version": "3.7.3"
  }
 },
 "nbformat": 4,
 "nbformat_minor": 4
}
