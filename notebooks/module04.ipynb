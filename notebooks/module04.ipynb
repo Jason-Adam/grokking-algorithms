{
 "cells": [
  {
   "cell_type": "markdown",
   "metadata": {},
   "source": [
    "# MSDS-432: Module 4 - Implement a Quicksort Algorithm  \n",
    "Jason Adam  \n",
    "\n",
    "## Imports"
   ]
  },
  {
   "cell_type": "code",
   "execution_count": 41,
   "metadata": {},
   "outputs": [
    {
     "name": "stdout",
     "output_type": "stream",
     "text": [
      "The blackcellmagic extension is already loaded. To reload it, use:\n",
      "  %reload_ext blackcellmagic\n"
     ]
    }
   ],
   "source": [
    "import functools\n",
    "import random\n",
    "import string\n",
    "import time\n",
    "\n",
    "import matplotlib.pyplot as plt\n",
    "import numpy as np\n",
    "import pandas as pd\n",
    "\n",
    "%load_ext blackcellmagic"
   ]
  },
  {
   "cell_type": "code",
   "execution_count": 27,
   "metadata": {},
   "outputs": [],
   "source": [
    "class TimeFunc:\n",
    "    \"\"\"Decorator to return run time of function in seconds.\"\"\"\n",
    "    def __init__(self, func):\n",
    "        functools.update_wrapper(self, func)\n",
    "        self.func = func\n",
    "        self.func_time = 0\n",
    "        \n",
    "    def __call__(self, *args, **kwargs):\n",
    "        start_time = time.perf_counter()\n",
    "        result = self.func(*args, **kwargs)\n",
    "        end_time = time.perf_counter()\n",
    "        run_time = end_time - start_time\n",
    "        self.func_time = run_time\n",
    "        return result"
   ]
  },
  {
   "cell_type": "markdown",
   "metadata": {},
   "source": [
    "## 1. Create 5 Random Lists  \n",
    "Set up five lists of randomly generated strings of length 50 characters, each with a length of 200, 400, 600, 800, 1000.  You may use the code we used in previous homework assignments.  Make sure the list is unsorted and does not contain any duplicates.  \n",
    "\n",
    "**I constructed the lists inside the function in section 4.**"
   ]
  },
  {
   "cell_type": "markdown",
   "metadata": {},
   "source": [
    "## 2. Implement Quicksort Algorithm  \n",
    "Use the textbook implementation of quicksort to sort the data, being sure to capture the amount of time it takes for each list."
   ]
  },
  {
   "cell_type": "code",
   "execution_count": 34,
   "metadata": {},
   "outputs": [],
   "source": [
    "# Define Quicksort\n",
    "@TimeFunc\n",
    "def quick_sort(l: list) -> list:\n",
    "    \"\"\"Quicksort algorithm.\n",
    "    \n",
    "    Parameters\n",
    "    ----------\n",
    "    l: list\n",
    "        List of values to be sorted\n",
    "        \n",
    "    Returns\n",
    "    -------\n",
    "    list:\n",
    "        Sorted list\n",
    "    \"\"\"\n",
    "    if len(l) < 2:\n",
    "        return l\n",
    "    else:\n",
    "        pivot = l[0]\n",
    "        less: list = [i for i in l[1:] if i <= pivot]\n",
    "        greater: list = [i for i in l[1:] if i > pivot]\n",
    "        return quicksort(less) + [pivot] + quicksort(greater)"
   ]
  },
  {
   "cell_type": "markdown",
   "metadata": {},
   "source": [
    "## 3. Compare Additional Sorting Algorithms  \n",
    "Now use at least two other sorting algorithms on the same data set (e.g. merge sort, bubble sort, insertion sort, etc). Make sure that you code the sorting algorithm and you do not use a builtin function. By this I mean you may not use `np.sort()` or `sorted()`, etc. You must code the algorithm in order to compare the complexity of each. Capture the computation time for each list using each sorting algorithm that you have used."
   ]
  },
  {
   "cell_type": "code",
   "execution_count": 35,
   "metadata": {},
   "outputs": [],
   "source": [
    "# Bubble Sort\n",
    "@TimeFunc\n",
    "def bubble_sort(l: list) -> None:\n",
    "    \"\"\"Bubblesort algorithm.\n",
    "    \n",
    "    Sorts in place.\n",
    "    \n",
    "    Parameters\n",
    "    ----------\n",
    "    l: list\n",
    "        List of values to be sorted\n",
    "    \"\"\"\n",
    "    n: int = len(l)\n",
    "    for i in range(n):\n",
    "        for j in range(0, n - i - 1):\n",
    "            if l[j] > l[j + 1]:\n",
    "                l[j], l[j + 1] = l[j + 1], l[j]\n",
    "\n",
    "\n",
    "# Merge Sort\n",
    "@TimeFunc\n",
    "def merge_sort(arr: list) -> None:\n",
    "    \"\"\"Merge Sort Algorithm.\n",
    "    \n",
    "    Sorts in place.\n",
    "    \n",
    "    Parameters\n",
    "    ----------\n",
    "    arr: list\n",
    "        List of items to be sorted.\n",
    "    \"\"\"\n",
    "    if len(arr) > 1:\n",
    "        mid = len(arr) // 2  # Finding the mid of the array\n",
    "        L = arr[:mid]  # Dividing the array elements\n",
    "        R = arr[mid:]  # into 2 halves\n",
    "        mergeSort(L)  # Sorting the first half\n",
    "        mergeSort(R)  # Sorting the second half\n",
    "        i = j = k = 0\n",
    "        # Copy data to temp arrays L[] and R[]\n",
    "        while i < len(L) and j < len(R):\n",
    "            if L[i] < R[j]:\n",
    "                arr[k] = L[i]\n",
    "                i += 1\n",
    "            else:\n",
    "                arr[k] = R[j]\n",
    "                j += 1\n",
    "            k += 1\n",
    "        # Checking if any element was left\n",
    "        while i < len(L):\n",
    "            arr[k] = L[i]\n",
    "            i += 1\n",
    "            k += 1\n",
    "        while j < len(R):\n",
    "            arr[k] = R[j]\n",
    "            j += 1\n",
    "            k += 1\n",
    "\n",
    "\n",
    "# Insertion Sort\n",
    "@TimeFunc\n",
    "def insertion_sort(arr: list) -> None:\n",
    "    \"\"\"Insertion Sort Algorithm.\n",
    "    \n",
    "    Sorts in place.\n",
    "    \n",
    "    Parameters\n",
    "    ----------\n",
    "    arr: list\n",
    "        List of items to be sorted.\n",
    "    \"\"\"\n",
    "    # Traverse through 1 to len(arr)\n",
    "    for i in range(1, len(arr)):\n",
    "        key = arr[i]\n",
    "        # Move elements of arr[0..i-1], that are\n",
    "        # greater than key, to one position ahead\n",
    "        # of their current position\n",
    "        j = i - 1\n",
    "        while j >= 0 and key < arr[j]:\n",
    "            arr[j + 1] = arr[j]\n",
    "            j -= 1\n",
    "        arr[j + 1] = key"
   ]
  },
  {
   "cell_type": "markdown",
   "metadata": {},
   "source": [
    "## 4. Compare Sort Times  \n",
    "Create a table containing each algorithm and the timings for each list. Provide a graph showing how each algorithm scales with size of list (also compare the algorithms themselves). Discuss your findings with explanations for what you observe."
   ]
  },
  {
   "cell_type": "code",
   "execution_count": 38,
   "metadata": {},
   "outputs": [
    {
     "data": {
      "text/html": [
       "<div>\n",
       "<style scoped>\n",
       "    .dataframe tbody tr th:only-of-type {\n",
       "        vertical-align: middle;\n",
       "    }\n",
       "\n",
       "    .dataframe tbody tr th {\n",
       "        vertical-align: top;\n",
       "    }\n",
       "\n",
       "    .dataframe thead th {\n",
       "        text-align: right;\n",
       "    }\n",
       "</style>\n",
       "<table border=\"1\" class=\"dataframe\">\n",
       "  <thead>\n",
       "    <tr style=\"text-align: right;\">\n",
       "      <th></th>\n",
       "      <th>array_length</th>\n",
       "      <th>quicksort_time</th>\n",
       "      <th>bubblesort_time</th>\n",
       "      <th>mergesort_time</th>\n",
       "      <th>insertionsort_time</th>\n",
       "    </tr>\n",
       "  </thead>\n",
       "  <tbody>\n",
       "    <tr>\n",
       "      <th>0</th>\n",
       "      <td>200</td>\n",
       "      <td>0.593212</td>\n",
       "      <td>5.299955</td>\n",
       "      <td>1.439813</td>\n",
       "      <td>2.059382</td>\n",
       "    </tr>\n",
       "    <tr>\n",
       "      <th>1</th>\n",
       "      <td>400</td>\n",
       "      <td>1.140669</td>\n",
       "      <td>15.316665</td>\n",
       "      <td>2.312064</td>\n",
       "      <td>7.202492</td>\n",
       "    </tr>\n",
       "    <tr>\n",
       "      <th>2</th>\n",
       "      <td>600</td>\n",
       "      <td>1.709422</td>\n",
       "      <td>27.793392</td>\n",
       "      <td>2.725993</td>\n",
       "      <td>12.823916</td>\n",
       "    </tr>\n",
       "    <tr>\n",
       "      <th>3</th>\n",
       "      <td>800</td>\n",
       "      <td>1.797941</td>\n",
       "      <td>49.851985</td>\n",
       "      <td>3.636294</td>\n",
       "      <td>23.336005</td>\n",
       "    </tr>\n",
       "    <tr>\n",
       "      <th>4</th>\n",
       "      <td>1000</td>\n",
       "      <td>2.280959</td>\n",
       "      <td>79.505509</td>\n",
       "      <td>4.640925</td>\n",
       "      <td>36.387379</td>\n",
       "    </tr>\n",
       "  </tbody>\n",
       "</table>\n",
       "</div>"
      ],
      "text/plain": [
       "   array_length  quicksort_time  bubblesort_time  mergesort_time  \\\n",
       "0           200        0.593212         5.299955        1.439813   \n",
       "1           400        1.140669        15.316665        2.312064   \n",
       "2           600        1.709422        27.793392        2.725993   \n",
       "3           800        1.797941        49.851985        3.636294   \n",
       "4          1000        2.280959        79.505509        4.640925   \n",
       "\n",
       "   insertionsort_time  \n",
       "0            2.059382  \n",
       "1            7.202492  \n",
       "2           12.823916  \n",
       "3           23.336005  \n",
       "4           36.387379  "
      ]
     },
     "execution_count": 38,
     "metadata": {},
     "output_type": "execute_result"
    }
   ],
   "source": [
    "def create_compare_df() -> pd.DataFrame:\n",
    "    \"\"\"Generate comparison dataframe for lists.\n",
    "    \n",
    "    Returns\n",
    "    -------\n",
    "    pd.DataFrame\n",
    "        Pandas data frame containing time metrics for\n",
    "        selection sort algorithm.\n",
    "    \"\"\"\n",
    "    compare: dict = {\n",
    "        \"array_length\": [200, 400, 600, 800, 1000],\n",
    "        \"quicksort_time\": [],\n",
    "        \"bubblesort_time\": [],\n",
    "        \"mergesort_time\": [],\n",
    "        \"insertionsort_time\": [],\n",
    "    }\n",
    "\n",
    "    # Instantiate list each time through for each algo since they update in place\n",
    "    for i in compare[\"array_length\"]:\n",
    "        random.seed(432)\n",
    "        unsorted_lst = [\n",
    "            \"\".join(random.choices(string.ascii_letters, k=50)) for _ in range(i)\n",
    "        ]\n",
    "        quick_sort(unsorted_lst)\n",
    "        compare[\"quicksort_time\"].append(quicksort.func_time)\n",
    "        random.seed(432)\n",
    "        unsorted_lst = [\n",
    "            \"\".join(random.choices(string.ascii_letters, k=50)) for _ in range(i)\n",
    "        ]\n",
    "        bubble_sort(unsorted_lst)\n",
    "        compare[\"bubblesort_time\"].append(bubble_sort.func_time)\n",
    "        random.seed(432)\n",
    "        unsorted_lst = [\n",
    "            \"\".join(random.choices(string.ascii_letters, k=50)) for _ in range(i)\n",
    "        ]\n",
    "        merge_sort(unsorted_lst)\n",
    "        compare[\"mergesort_time\"].append(merge_sort.func_time)\n",
    "        random.seed(432)\n",
    "        unsorted_lst = [\n",
    "            \"\".join(random.choices(string.ascii_letters, k=50)) for _ in range(i)\n",
    "        ]\n",
    "        insertion_sort(unsorted_lst)\n",
    "        compare[\"insertionsort_time\"].append(insertion_sort.func_time)\n",
    "\n",
    "    df: pd.DataFrame = pd.DataFrame(compare)\n",
    "    df.quicksort_time = df.quicksort_time.apply(lambda t: t * 1000)\n",
    "    df.bubblesort_time = df.bubblesort_time.apply(lambda t: t * 1000)\n",
    "    df.mergesort_time = df.mergesort_time.apply(lambda t: t * 1000)\n",
    "    df.insertionsort_time = df.insertionsort_time.apply(lambda t: t * 1000)\n",
    "    return df\n",
    "\n",
    "\n",
    "cdf = create_compare_df()\n",
    "cdf"
   ]
  },
  {
   "cell_type": "code",
   "execution_count": 43,
   "metadata": {},
   "outputs": [
    {
     "data": {
      "image/png": "[encoded data removed]",
      "text/plain": [
       "<Figure size 720x360 with 1 Axes>"
      ]
     },
     "metadata": {
      "needs_background": "light"
     },
     "output_type": "display_data"
    }
   ],
   "source": [
    "def comparison_plot():\n",
    "    fig, ax = plt.subplots(figsize=(10, 5))\n",
    "\n",
    "    ax.plot(cdf.array_length, cdf.quicksort_time, color=\"blue\")\n",
    "    ax.plot(cdf.array_length, cdf.bubblesort_time, color=\"red\")\n",
    "    ax.plot(cdf.array_length, cdf.mergesort_time, color=\"orange\")\n",
    "    ax.plot(cdf.array_length, cdf.insertionsort_time, color=\"darkgreen\")\n",
    "    ax.set_title(\"Sorting Time Comparison\")\n",
    "    ax.set_ylabel(\"Time (Milliseconds)\")\n",
    "    ax.set_xlabel(\"Array Length\")\n",
    "    ax.legend([\"Quick\", \"Bubble\", \"Merge\", \"Insertion\"])\n",
    "    plt.show()\n",
    "    \n",
    "\n",
    "comparison_plot()"
   ]
  },
  {
   "cell_type": "markdown",
   "metadata": {},
   "source": [
    "Bubblesort is significantly slower than our quicksort algorithm. Bubblesort has a $O(n^2)$ complexity which makes it extremely slow as the array size increases. Quicksort exhibits an average run time of $O(n\\ log\\ n)$  which is scales much better as arrays increase in size. Mergesort also exhibits an $O(n\\ log\\ n)$ run time, but in reality, quicksort hits it's average run time more often than it's worst case making it edge out merge sort.  \n",
    "\n",
    "I wanted to zoom in and see if the difference between the two was even noticeable. It doesn't appear to be much different on the size of arrays we're testing against."
   ]
  },
  {
   "cell_type": "code",
   "execution_count": 44,
   "metadata": {},
   "outputs": [
    {
     "data": {
      "image/png": "[encoded data removed]",
      "text/plain": [
       "<Figure size 720x360 with 1 Axes>"
      ]
     },
     "metadata": {
      "needs_background": "light"
     },
     "output_type": "display_data"
    }
   ],
   "source": [
    "def compare_quick_merge():\n",
    "    fig, ax = plt.subplots(figsize=(10, 5))\n",
    "\n",
    "    ax.plot(cdf.array_length, cdf.quicksort_time, color=\"blue\")\n",
    "    ax.plot(cdf.array_length, cdf.mergesort_time, color=\"orange\")\n",
    "    ax.set_title(\"QuickSort vs MergeSort Time Comparison\")\n",
    "    ax.set_ylabel(\"Time (Milliseconds)\")\n",
    "    ax.set_xlabel(\"Array Length\")\n",
    "    ax.legend([\"Quick\", \"Merge\"])\n",
    "    plt.show()\n",
    "    \n",
    "\n",
    "compare_quick_merge()"
   ]
  },
  {
   "cell_type": "markdown",
   "metadata": {},
   "source": [
    "## Executive Summary  \n",
    "\n",
    "Quicksort is one of the fasting sorting algorithms available due to it's divide and conquer strategy. You pick a pivot, move all values less than the pivot to a sub-array to the left and all values greater than the pivot to a sub-array on the right. You recursively call the quicsort on the sub-arrays until they reach their base case. In the real world this is a very commonly used, powerful sorting algorithm. This can be used effectively in applications where a sorting step is required before further processing. Correct implementation can reduce application run-times and improve end-user experience.\n",
    "\n",
    "### Reference  \n",
    "[1] Bhargava, A. Y. (2016). Grokking algorithms: An illustrated guide for programmers and other curious people."
   ]
  }
 ],
 "metadata": {
  "kernelspec": {
   "display_name": "msds-432",
   "language": "python",
   "name": "msds-432"
  },
  "language_info": {
   "codemirror_mode": {
    "name": "ipython",
    "version": 3
   },
   "file_extension": ".py",
   "mimetype": "text/x-python",
   "name": "python",
   "nbconvert_exporter": "python",
   "pygments_lexer": "ipython3",
   "version": "3.7.3"
  }
 },
 "nbformat": 4,
 "nbformat_minor": 4
}
