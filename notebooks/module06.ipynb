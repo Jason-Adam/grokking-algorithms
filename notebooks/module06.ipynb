{
 "cells": [
  {
   "cell_type": "markdown",
   "metadata": {},
   "source": [
    "# MSDS-432: Module 6 - Implement a Breadth-first Search Algorithm  \n",
    "Jason Adam  \n",
    "\n",
    "## Imports"
   ]
  },
  {
   "cell_type": "code",
   "execution_count": 1,
   "metadata": {},
   "outputs": [],
   "source": [
    "from collections import deque\n",
    "import random\n",
    "import string\n",
    "import time\n",
    "\n",
    "import matplotlib.pyplot as plt\n",
    "import pandas as pd\n",
    "\n",
    "%load_ext blackcellmagic"
   ]
  },
  {
   "cell_type": "markdown",
   "metadata": {},
   "source": [
    "## 1. Create a five level 'connections' graph (all unique, no duplicates).  \n",
    "* The first level should have five people and each person in first level should have five connections (they can be exclusive to one person or shared with other members on the same level, but all five should be unique, no duplicates)  \n",
    "* Each person in the second level should have five connections (they can be exclusive to one person or shared with other members on the same level, but all five should be unique, no duplicates)  \n",
    "* Continue the same for third, fourth, and fifth levels  \n",
    "* There should be no reverse connections (i.e. first level can connect to second level but second cannot have any reverse connection with the first, and so on for 3rd, 4th, and 5th levels)"
   ]
  },
  {
   "cell_type": "code",
   "execution_count": 2,
   "metadata": {},
   "outputs": [],
   "source": [
    "def create_follower_graph():\n",
    "    levels: int = 5\n",
    "    followers: int = 5\n",
    "    graph: dict = {}\n",
    "    ppl_follow_lvls: dict = {}\n",
    "    # List of members in each level\n",
    "    lvl_ttls: list = [pow(followers, i) for i in range(1, levels + 1)]\n",
    "    # Generate Random names for each level\n",
    "    for i in lvl_ttls:\n",
    "        random.seed(i)\n",
    "        ppl_follow_lvls[i]: list = [\n",
    "            \"\".join(random.choices(string.ascii_letters, k=5)) for _ in range(i)\n",
    "        ]\n",
    "    # Create queue of each level\n",
    "    deqs = [deque(ppl_follow_lvls[i]) for i in lvl_ttls]\n",
    "    # Create each name with empty list\n",
    "    for v in ppl_follow_lvls.values():\n",
    "        for name in v:\n",
    "            graph[name] = []\n",
    "    # Populate followers (last group won't have any)\n",
    "    for i, v in enumerate(lvl_ttls):\n",
    "        if i == len(lvl_ttls) - 1:\n",
    "            break\n",
    "        for f in ppl_follow_lvls[v]:\n",
    "            if len(graph[f]) == 5:\n",
    "                continue\n",
    "            else:\n",
    "                while len(graph[f]) < 5:\n",
    "                    graph[f].append(deqs[i + 1].popleft())\n",
    "    return ppl_follow_lvls, graph\n",
    "\n",
    "\n",
    "ppl_follow_lvls, graph = create_follower_graph()"
   ]
  },
  {
   "cell_type": "code",
   "execution_count": 233,
   "metadata": {},
   "outputs": [
    {
     "name": "stdout",
     "output_type": "stream",
     "text": [
      "3125\n"
     ]
    }
   ],
   "source": [
    "# Verify Final Followers don't have followers\n",
    "cnt = 0\n",
    "for k, v in graph.items():\n",
    "    if len(v) == 0:\n",
    "        cnt += 1\n",
    "\n",
    "print(cnt)"
   ]
  },
  {
   "cell_type": "markdown",
   "metadata": {},
   "source": [
    "## 2. Breadth-First Search  \n",
    "Now search for three people on each level and capture the time for each search."
   ]
  },
  {
   "cell_type": "code",
   "execution_count": 234,
   "metadata": {},
   "outputs": [],
   "source": [
    "def bf_search(search_name: str, lvl: int) -> dict:\n",
    "    search_queue = deque()\n",
    "    # Use starting 5 to get going.\n",
    "    search_queue += ppl_follow_lvls[5]\n",
    "    # This array is how you keep track of which people you've searched before.\n",
    "    searched = []\n",
    "    # Create dict of name and search time.\n",
    "    prsn = {\"name\": search_name, \"lvl\": lvl}\n",
    "    start_time = time.perf_counter()\n",
    "    while search_queue:\n",
    "        person = search_queue.popleft()\n",
    "        # Only search this person if you haven't already searched them.\n",
    "        if person not in searched:\n",
    "            if person == search_name:\n",
    "                end_time = time.perf_counter()\n",
    "                ttl_time = (end_time - start_time) * 1000\n",
    "                prsn[\"search_time\"] = ttl_time\n",
    "                return prsn\n",
    "            else:\n",
    "                search_queue += graph[person]\n",
    "                # Marks this person as searched\n",
    "                searched.append(person)\n",
    "    return False"
   ]
  },
  {
   "cell_type": "code",
   "execution_count": 235,
   "metadata": {},
   "outputs": [
    {
     "data": {
      "text/plain": [
       "[{'level': 1, 'names': ['UfymC', 'DaloV', 'GMPXM']},\n",
       " {'level': 2, 'names': ['GCxpz', 'fNvPK', 'HcXnp']},\n",
       " {'level': 3, 'names': ['GawUe', 'YokFf', 'BzGYt']},\n",
       " {'level': 4, 'names': ['ogfUo', 'pbcuW', 'MMZML']},\n",
       " {'level': 5, 'names': ['JxDMp', 'CZlxO', 'MrMcG']}]"
      ]
     },
     "execution_count": 235,
     "metadata": {},
     "output_type": "execute_result"
    }
   ],
   "source": [
    "# Create Random Samples\n",
    "def rand_samples() -> list:\n",
    "    search_samples = []\n",
    "    cnt = 0\n",
    "    for k, v in ppl_follow_lvls.items():\n",
    "        cnt += 1\n",
    "        samples = {}\n",
    "        samples[\"level\"] = cnt\n",
    "        random.seed(432)\n",
    "        samples[\"names\"] = random.choices(v, k=3)\n",
    "        search_samples.append(samples)\n",
    "    return search_samples\n",
    "\n",
    "\n",
    "samples = rand_samples()\n",
    "samples"
   ]
  },
  {
   "cell_type": "markdown",
   "metadata": {},
   "source": [
    "## 3. Summary Table  \n",
    "Organize the results of the study into an table showing the 'name' that you searched for, the level of the search (first, second, third, fourth, fifth), and the time it took.  Discuss any findings."
   ]
  },
  {
   "cell_type": "code",
   "execution_count": 236,
   "metadata": {},
   "outputs": [
    {
     "data": {
      "text/html": [
       "<div>\n",
       "<style scoped>\n",
       "    .dataframe tbody tr th:only-of-type {\n",
       "        vertical-align: middle;\n",
       "    }\n",
       "\n",
       "    .dataframe tbody tr th {\n",
       "        vertical-align: top;\n",
       "    }\n",
       "\n",
       "    .dataframe thead th {\n",
       "        text-align: right;\n",
       "    }\n",
       "</style>\n",
       "<table border=\"1\" class=\"dataframe\">\n",
       "  <thead>\n",
       "    <tr style=\"text-align: right;\">\n",
       "      <th></th>\n",
       "      <th>name</th>\n",
       "      <th>lvl</th>\n",
       "      <th>search_time</th>\n",
       "    </tr>\n",
       "  </thead>\n",
       "  <tbody>\n",
       "    <tr>\n",
       "      <th>0</th>\n",
       "      <td>UfymC</td>\n",
       "      <td>1</td>\n",
       "      <td>0.003552</td>\n",
       "    </tr>\n",
       "    <tr>\n",
       "      <th>1</th>\n",
       "      <td>DaloV</td>\n",
       "      <td>1</td>\n",
       "      <td>0.001801</td>\n",
       "    </tr>\n",
       "    <tr>\n",
       "      <th>2</th>\n",
       "      <td>GMPXM</td>\n",
       "      <td>1</td>\n",
       "      <td>0.000303</td>\n",
       "    </tr>\n",
       "    <tr>\n",
       "      <th>3</th>\n",
       "      <td>GCxpz</td>\n",
       "      <td>2</td>\n",
       "      <td>0.014331</td>\n",
       "    </tr>\n",
       "    <tr>\n",
       "      <th>4</th>\n",
       "      <td>fNvPK</td>\n",
       "      <td>2</td>\n",
       "      <td>0.012630</td>\n",
       "    </tr>\n",
       "    <tr>\n",
       "      <th>5</th>\n",
       "      <td>HcXnp</td>\n",
       "      <td>2</td>\n",
       "      <td>0.002869</td>\n",
       "    </tr>\n",
       "    <tr>\n",
       "      <th>6</th>\n",
       "      <td>GawUe</td>\n",
       "      <td>3</td>\n",
       "      <td>0.153354</td>\n",
       "    </tr>\n",
       "    <tr>\n",
       "      <th>7</th>\n",
       "      <td>YokFf</td>\n",
       "      <td>3</td>\n",
       "      <td>0.170620</td>\n",
       "    </tr>\n",
       "    <tr>\n",
       "      <th>8</th>\n",
       "      <td>BzGYt</td>\n",
       "      <td>3</td>\n",
       "      <td>0.028278</td>\n",
       "    </tr>\n",
       "    <tr>\n",
       "      <th>9</th>\n",
       "      <td>ogfUo</td>\n",
       "      <td>4</td>\n",
       "      <td>2.888398</td>\n",
       "    </tr>\n",
       "    <tr>\n",
       "      <th>10</th>\n",
       "      <td>pbcuW</td>\n",
       "      <td>4</td>\n",
       "      <td>3.627923</td>\n",
       "    </tr>\n",
       "    <tr>\n",
       "      <th>11</th>\n",
       "      <td>MMZML</td>\n",
       "      <td>4</td>\n",
       "      <td>0.451341</td>\n",
       "    </tr>\n",
       "    <tr>\n",
       "      <th>12</th>\n",
       "      <td>JxDMp</td>\n",
       "      <td>5</td>\n",
       "      <td>56.584804</td>\n",
       "    </tr>\n",
       "    <tr>\n",
       "      <th>13</th>\n",
       "      <td>CZlxO</td>\n",
       "      <td>5</td>\n",
       "      <td>61.283362</td>\n",
       "    </tr>\n",
       "    <tr>\n",
       "      <th>14</th>\n",
       "      <td>MrMcG</td>\n",
       "      <td>5</td>\n",
       "      <td>7.351584</td>\n",
       "    </tr>\n",
       "  </tbody>\n",
       "</table>\n",
       "</div>"
      ],
      "text/plain": [
       "     name  lvl  search_time\n",
       "0   UfymC    1     0.003552\n",
       "1   DaloV    1     0.001801\n",
       "2   GMPXM    1     0.000303\n",
       "3   GCxpz    2     0.014331\n",
       "4   fNvPK    2     0.012630\n",
       "5   HcXnp    2     0.002869\n",
       "6   GawUe    3     0.153354\n",
       "7   YokFf    3     0.170620\n",
       "8   BzGYt    3     0.028278\n",
       "9   ogfUo    4     2.888398\n",
       "10  pbcuW    4     3.627923\n",
       "11  MMZML    4     0.451341\n",
       "12  JxDMp    5    56.584804\n",
       "13  CZlxO    5    61.283362\n",
       "14  MrMcG    5     7.351584"
      ]
     },
     "execution_count": 236,
     "metadata": {},
     "output_type": "execute_result"
    }
   ],
   "source": [
    "def comparison_table() -> pd.DataFrame:\n",
    "    search_times = []\n",
    "    for s in samples:\n",
    "        for v in s[\"names\"]:\n",
    "            search_times.append(bf_search(v, s[\"level\"]))\n",
    "    return pd.DataFrame(search_times)\n",
    "\n",
    "\n",
    "df = comparison_table()\n",
    "df"
   ]
  },
  {
   "cell_type": "markdown",
   "metadata": {},
   "source": [
    "It looks as though the deeper in the graph that the search had to go, the longer the search took. This makes sense as we have to traverse more names to find the one in question. The final person in the table \"MrMcG\" took 7 milliseconds to find compared to longer run times for the two other 5th level names. This is interesting, and my initial guess is that this person was found in one of the earlier 4th level follower lists than the other two.  I'll attempt to confirm below."
   ]
  },
  {
   "cell_type": "code",
   "execution_count": 242,
   "metadata": {},
   "outputs": [
    {
     "name": "stdout",
     "output_type": "stream",
     "text": [
      "name=JxDMp key=ogfUo\n",
      "name=CZlxO key=pbcuW\n",
      "name=MrMcG key=MMZML\n"
     ]
    }
   ],
   "source": [
    "# Get Keys from main graph (level 4 people) for lvl 5 followers\n",
    "for i in df.loc[df.lvl == 5][\"name\"].tolist():\n",
    "    for k, v in graph.items():\n",
    "        if i in v:\n",
    "            print(f\"name={i} key={k}\")"
   ]
  },
  {
   "cell_type": "code",
   "execution_count": 244,
   "metadata": {},
   "outputs": [
    {
     "name": "stdout",
     "output_type": "stream",
     "text": [
      "name=MMZML index=39\n",
      "name=ogfUo index=364\n",
      "name=pbcuW index=415\n"
     ]
    }
   ],
   "source": [
    "# Print indices of lvl 4 folks that had level 5 followers\n",
    "# in the summary table.\n",
    "lvl4 = [\"ogfUo\", \"pbcuW\", \"MMZML\"]\n",
    "\n",
    "for v in ppl_follow_lvls.values():\n",
    "    for i, n in enumerate(v):\n",
    "        for l in lvl4:\n",
    "            if n == l:\n",
    "                print(f\"name={l} index={i}\")"
   ]
  },
  {
   "cell_type": "markdown",
   "metadata": {},
   "source": [
    "As I suspected, the shortest time was from a level 4 name being very shallow in the overall list of 625 lvl 4 names. This means that the search didn't have to go as deep to find their follower in level 5."
   ]
  },
  {
   "cell_type": "markdown",
   "metadata": {},
   "source": [
    "## 4. Summary Graph  \n",
    "Using the average time for each level, create a plot and compare times at each level (five bars or any other suitable visual).  Discuss any findings."
   ]
  },
  {
   "cell_type": "code",
   "execution_count": 245,
   "metadata": {},
   "outputs": [
    {
     "data": {
      "text/plain": [
       "<matplotlib.axes._subplots.AxesSubplot at 0x11e8e2940>"
      ]
     },
     "execution_count": 245,
     "metadata": {},
     "output_type": "execute_result"
    },
    {
     "data": {
      "image/png": "[encoded data removed]",
      "text/plain": [
       "<Figure size 720x360 with 1 Axes>"
      ]
     },
     "metadata": {
      "needs_background": "light"
     },
     "output_type": "display_data"
    }
   ],
   "source": [
    "avg_times = (\n",
    "    df.groupby([\"lvl\"])\n",
    "    .agg(avg_search_time=pd.NamedAgg(\"search_time\", \"mean\"))\n",
    "    .reset_index()\n",
    ")\n",
    "\n",
    "avg_times.plot.bar(\n",
    "    x=\"lvl\",\n",
    "    y=\"avg_search_time\",\n",
    "    figsize=(10, 5),\n",
    "    title=\"Average Search Times by Level (Milliseconds)\",\n",
    ")"
   ]
  },
  {
   "cell_type": "markdown",
   "metadata": {},
   "source": [
    "This highlights the increase in time rather well as the graph gets deeper, but we can't see the first 3 levels. Let's try plotting on a log scale so we can at least see them."
   ]
  },
  {
   "cell_type": "code",
   "execution_count": 246,
   "metadata": {},
   "outputs": [
    {
     "data": {
      "text/plain": [
       "<matplotlib.axes._subplots.AxesSubplot at 0x11ec0cf60>"
      ]
     },
     "execution_count": 246,
     "metadata": {},
     "output_type": "execute_result"
    },
    {
     "data": {
      "image/png": "[encoded data removed]",
      "text/plain": [
       "<Figure size 720x360 with 1 Axes>"
      ]
     },
     "metadata": {
      "needs_background": "light"
     },
     "output_type": "display_data"
    }
   ],
   "source": [
    "avg_times.plot.bar(\n",
    "    x=\"lvl\",\n",
    "    y=\"avg_search_time\",\n",
    "    figsize=(10, 5),\n",
    "    title=\"Average Search Times by Level (Milliseconds)\",\n",
    "    logy=True\n",
    ")"
   ]
  },
  {
   "cell_type": "markdown",
   "metadata": {},
   "source": [
    "We can now see our relationship a bit clearer."
   ]
  },
  {
   "cell_type": "markdown",
   "metadata": {},
   "source": [
    "## Executive Summary  \n",
    "Overall, the search performed how we would expect. Breadth-first search has a big O run-time of $O(V+E)$. The $V$ and $E$ represent vertices and edges in the graph. As our follower graph scales out, we must add many more edges and vertices, hence we have many more names to search. In the long-run this search method can get quite expensive if the names we are searching for are consistently deep within our graph, therefore I would only recommend implementing this solution for shallower graphs as to not hinder performance. If there is a predetermined number of levels in a graph with a predetermined number of followers, then this solution could perform nicely as the timing will be quite predictable and fast. If our graph is to expand to greater depths, then management should consider alternative solutions.\n",
    "\n",
    "### Reference  \n",
    "[1] Bhargava, A. Y. (2016). Grokking algorithms: An illustrated guide for programmers and other curious people."
   ]
  }
 ],
 "metadata": {
  "kernelspec": {
   "display_name": "msds-432",
   "language": "python",
   "name": "msds-432"
  },
  "language_info": {
   "codemirror_mode": {
    "name": "ipython",
    "version": 3
   },
   "file_extension": ".py",
   "mimetype": "text/x-python",
   "name": "python",
   "nbconvert_exporter": "python",
   "pygments_lexer": "ipython3",
   "version": "3.8.3"
  }
 },
 "nbformat": 4,
 "nbformat_minor": 4
}
