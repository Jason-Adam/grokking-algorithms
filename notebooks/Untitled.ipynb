{
 "cells": [
  {
   "cell_type": "markdown",
   "metadata": {},
   "source": [
    "# MSDS-432: Module 7 - Implementing Dijkstra's Algorithm  \n",
    "Jason Adam  \n",
    "\n",
    "Below is the Graph that will be used throughout the assignment.  \n",
    "![](../imgs/RoadTrip_NYC_to_L.A.JPG)\n",
    "\n",
    "## Imports"
   ]
  },
  {
   "cell_type": "code",
   "execution_count": 83,
   "metadata": {},
   "outputs": [
    {
     "name": "stdout",
     "output_type": "stream",
     "text": [
      "The blackcellmagic extension is already loaded. To reload it, use:\n",
      "  %reload_ext blackcellmagic\n"
     ]
    }
   ],
   "source": [
    "from typing import List, Tuple\n",
    "\n",
    "import matplotlib.pyplot as plt\n",
    "import pandas as pd\n",
    "\n",
    "%load_ext blackcellmagic"
   ]
  },
  {
   "cell_type": "markdown",
   "metadata": {},
   "source": [
    "## Construct Graph"
   ]
  },
  {
   "cell_type": "code",
   "execution_count": 97,
   "metadata": {},
   "outputs": [],
   "source": [
    "graph: dict = {\n",
    "    \"NYC\": {\"DC\": 2, \"Indianapolis\": 11, \"Pittsburg\": 7},\n",
    "    \"DC\": {\"Atlanta\": 2},\n",
    "    \"Atlanta\": {\"New Orleans\": 2},\n",
    "    \"New Orleans\": {\"Dallas\": 2},\n",
    "    \"Dallas\": {\"Albuquerque\": 2},\n",
    "    \"Albuquerque\": {\"Phoenix\": 2},\n",
    "    \"Phoenix\": {\"Las Vegas\": 2, \"San Diego\": 5},\n",
    "    \"Las Vegas\": {\"San Diego\": 2, \"Los Angeles\": 5},\n",
    "    \"San Diego\": {\"Los Angeles\": 2},\n",
    "    \"Indianapolis\": {\"Kansas City\": 8},\n",
    "    \"Kansas City\": {\"Denver\": 7},\n",
    "    \"Denver\": {\"Salt Lake City\": 6},\n",
    "    \"Salt Lake City\": {\"Las Vegas\": 9},\n",
    "    \"Pittsburg\": {\"Cincinnati\": 6},\n",
    "    \"Cincinnati\": {\"St Louis\": 8},\n",
    "    \"St Louis\": {\"Oklahoma City\": 7},\n",
    "    \"Oklahoma City\": {\"Albuquerque\": 9},\n",
    "    \"Los Angeles\": {}\n",
    "}\n",
    "\n",
    "costs: dict = {\"DC\": 2, \"Indianapolis\": 11, \"Pittsburg\": 7, \"Los Angeles\": float(\"inf\")}\n",
    "    \n",
    "parents: dict = {\n",
    "    \"DC\": \"NYC\",\n",
    "    \"Indianapolis\": \"NYC\",\n",
    "    \"Pittsburg\": \"NYC\",\n",
    "    \"Los Angeles\": None,\n",
    "}"
   ]
  },
  {
   "cell_type": "markdown",
   "metadata": {},
   "source": [
    "## 1. BFS Algorithm  \n",
    "First, use the breadth-first algorithm to find the quickest way to get to L.A from NYC and calculate the time that it will take to get to L.A. from NYC using the breadth first algorithm.  (Even though BFS does not use weighted edges, we will indirectly use them to calculate the time of the route)."
   ]
  },
  {
   "cell_type": "code",
   "execution_count": 100,
   "metadata": {},
   "outputs": [],
   "source": [
    "def bfs(graph_to_search: dict, start: str, end: str) -> List[Tuple]:\n",
    "    \"\"\"Breadth-First Search Algorithm.\n",
    "    \n",
    "    Parameters\n",
    "    ----------\n",
    "    graph_to_search: dict\n",
    "        Graph represented as a dictionary.\n",
    "    start: str\n",
    "        Starting value.\n",
    "    end: str\n",
    "        Ending value or destination.\n",
    "        \n",
    "    Returns\n",
    "    -------\n",
    "    List[Tuple]:\n",
    "        List containing shortest path from \n",
    "        start to end (added distances).\n",
    "        Ex.: [(\"NYC\", 0), (\"DC\", 5)]\n",
    "    \"\"\"\n",
    "    queue: list = [[(start, 0)]]\n",
    "    visited: set = set()\n",
    "\n",
    "    while queue:\n",
    "        # Gets the first path in the queue\n",
    "        path: tuple = queue.pop(0)\n",
    "\n",
    "        # Gets the last node in the path\n",
    "        vertex: str = path[-1][0]\n",
    "\n",
    "        # Checks if we got to the end\n",
    "        if vertex == end:\n",
    "            return path\n",
    "        # We check if the current node is already in the visited nodes set in order not to recheck it\n",
    "        elif vertex not in visited:\n",
    "            # enumerate all adjacent nodes, construct a new path and push it into the queue\n",
    "            # for current_neighbour in graph_to_search.get(vertex, {}):\n",
    "            for k, v in graph_to_search[vertex].items():\n",
    "                new_path: List[Tuple] = list(path)\n",
    "                new_path.append((k, v))\n",
    "                queue.append(new_path)\n",
    "\n",
    "            # Mark the vertex as visited\n",
    "            visited.add(vertex)\n",
    "\n",
    "\n",
    "# Run BFS on the Graph\n",
    "shortest_path = bfs(graph, \"NYC\", \"Los Angeles\")"
   ]
  },
  {
   "cell_type": "markdown",
   "metadata": {},
   "source": [
    "## 2. Print the Route"
   ]
  },
  {
   "cell_type": "code",
   "execution_count": 101,
   "metadata": {},
   "outputs": [
    {
     "name": "stdout",
     "output_type": "stream",
     "text": [
      "NYC --> Indianapolis --> Kansas City --> Denver --> Salt Lake City --> Las Vegas --> Los Angeles\n"
     ]
    }
   ],
   "source": [
    "def calc_route(path: List[Tuple]) -> None:\n",
    "    \"\"\"Printable output for shortest path.\n",
    "    \n",
    "    Parameters\n",
    "    ----------\n",
    "    path: List[Tuple]\n",
    "        List of tuples\n",
    "        Ex. [(\"NYC\", 0), (\"DC\", 5)]\n",
    "    \n",
    "    Returns\n",
    "    -------\n",
    "    None\n",
    "    \"\"\"\n",
    "    for i, v in enumerate(path):\n",
    "        if i == len(path) - 1:\n",
    "            print(v[0])\n",
    "        else:\n",
    "            print(f\"{v[0]} --> \", end=\"\")\n",
    "\n",
    "\n",
    "calc_route(shortest_path)"
   ]
  },
  {
   "cell_type": "code",
   "execution_count": 102,
   "metadata": {},
   "outputs": [
    {
     "name": "stdout",
     "output_type": "stream",
     "text": [
      "The total distance from NYC to LA using BFS was 46\n"
     ]
    }
   ],
   "source": [
    "def calc_distance(path: List[Tuple], algo: str) -> str:\n",
    "    \"\"\"Printable output for shortest path distance.\n",
    "    \n",
    "    Parameters\n",
    "    ----------\n",
    "    path: List[Tuple]\n",
    "        List of tuples\n",
    "        Ex. [(\"NYC\", 0), (\"DC\", 5)]\n",
    "    algo: str\n",
    "        Name of algorithm.\n",
    "    \n",
    "    Returns\n",
    "    -------\n",
    "    str:\n",
    "        String output with distance.\n",
    "    \"\"\"\n",
    "    t: int = 0\n",
    "    for i in path:\n",
    "        t += i[1]\n",
    "    return f\"The total distance from NYC to LA using {algo} was {t}\"\n",
    "    \n",
    "\n",
    "print(calc_distance(shortest_path, \"BFS\"))"
   ]
  },
  {
   "cell_type": "markdown",
   "metadata": {},
   "source": [
    "## 3. Dijkstra's Algorithm  \n",
    "Next, use Dijkstra's algorithm to find the most optimal route to get to L.A from NYC, capture the time that it will take to get to L.A (use the weights in the algorithm assigned to the routes)."
   ]
  },
  {
   "cell_type": "code",
   "execution_count": 130,
   "metadata": {},
   "outputs": [],
   "source": [
    "def dijkstra(\n",
    "    graph: dict,\n",
    "    src: str,\n",
    "    dest: str,\n",
    "    visited: list = None,\n",
    "    distances: dict = None,\n",
    "    predecessors: dict = None,\n",
    "):\n",
    "    if visited is None:\n",
    "        visited = []\n",
    "    if distances is None:\n",
    "        distances = {}\n",
    "    if predecessors is None:\n",
    "        predecessors = {}\n",
    "    # ending condition\n",
    "    if src == dest:\n",
    "        # We build the shortest path and display it\n",
    "        path = []\n",
    "        pred = dest\n",
    "        while pred != None:\n",
    "            path.append(pred)\n",
    "            pred = predecessors.get(pred, None)\n",
    "        # reverses the array, to display the path nicely\n",
    "        readable = path[0]\n",
    "        for index in range(1, len(path)):\n",
    "            readable = f\"{path[index]} --> {readable}\"\n",
    "        # prints it\n",
    "        print(f\"path: {readable}\")\n",
    "        print(f\"cost = {str(distances[dest])}\")\n",
    "    else:\n",
    "        # if it is the initial  run, initializes the cost\n",
    "        if not visited:\n",
    "            distances[src] = 0\n",
    "        # visit the neighbors\n",
    "        for neighbor in graph[src]:\n",
    "            if neighbor not in visited:\n",
    "                new_distance = distances[src] + graph[src][neighbor]\n",
    "                if new_distance < distances.get(neighbor, float(\"inf\")):\n",
    "                    distances[neighbor] = new_distance\n",
    "                    predecessors[neighbor] = src\n",
    "        # mark as visited\n",
    "        visited.append(src)\n",
    "        # now that all neighbors have been visited: recurse\n",
    "        # select the non visited node with lowest distance 'x'\n",
    "        # run Dijskstra with src='x'\n",
    "        unvisited = {}\n",
    "        for k in graph:\n",
    "            if k not in visited:\n",
    "                unvisited[k] = distances.get(k, float(\"inf\"))\n",
    "        x = min(unvisited, key=unvisited.get)\n",
    "        dijkstra(graph, x, dest, visited, distances, predecessors)"
   ]
  },
  {
   "cell_type": "code",
   "execution_count": 131,
   "metadata": {},
   "outputs": [
    {
     "name": "stdout",
     "output_type": "stream",
     "text": [
      "path: NYC --> DC --> Atlanta --> New Orleans --> Dallas --> Albuquerque --> Phoenix --> Las Vegas --> San Diego --> Los Angeles\n",
      "cost = 18\n"
     ]
    }
   ],
   "source": [
    "dijkstra(graph, \"NYC\", \"Los Angeles\")"
   ]
  },
  {
   "cell_type": "markdown",
   "metadata": {},
   "source": [
    "## 4. Print the Route"
   ]
  },
  {
   "cell_type": "code",
   "execution_count": null,
   "metadata": {},
   "outputs": [],
   "source": []
  },
  {
   "cell_type": "markdown",
   "metadata": {},
   "source": [
    "## 5. Compare Algorithms  \n",
    "Compare time of Breadth-first algorithm with Dijkstra's algorithm in terms of trip time, stops, computation complexity.  Discuss the reason for differences in methods."
   ]
  },
  {
   "cell_type": "code",
   "execution_count": null,
   "metadata": {},
   "outputs": [],
   "source": []
  },
  {
   "cell_type": "markdown",
   "metadata": {},
   "source": [
    "## 6. Visualize Algorithm Performance  \n",
    "Use Python (matplotlib or Seaborn) or JavaScript (D3) visualization tools to illustrate algorithm performance."
   ]
  },
  {
   "cell_type": "code",
   "execution_count": null,
   "metadata": {},
   "outputs": [],
   "source": []
  },
  {
   "cell_type": "markdown",
   "metadata": {},
   "source": [
    "## Executive Summary  \n",
    "\n",
    "### Reference  \n",
    "[1] Bhargava, A. Y. (2016). Grokking algorithms: An illustrated guide for programmers and other curious people."
   ]
  },
  {
   "cell_type": "code",
   "execution_count": null,
   "metadata": {},
   "outputs": [],
   "source": []
  }
 ],
 "metadata": {
  "kernelspec": {
   "display_name": "msds-432",
   "language": "python",
   "name": "msds-432"
  },
  "language_info": {
   "codemirror_mode": {
    "name": "ipython",
    "version": 3
   },
   "file_extension": ".py",
   "mimetype": "text/x-python",
   "name": "python",
   "nbconvert_exporter": "python",
   "pygments_lexer": "ipython3",
   "version": "3.7.3"
  }
 },
 "nbformat": 4,
 "nbformat_minor": 4
}
