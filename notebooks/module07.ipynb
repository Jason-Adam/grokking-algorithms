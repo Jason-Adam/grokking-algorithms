{
 "cells": [
  {
   "cell_type": "markdown",
   "metadata": {},
   "source": [
    "# MSDS-432: Module 7 - Implementing Dijkstra's Algorithm  \n",
    "Jason Adam  \n",
    "\n",
    "Below is the Graph that will be used throughout the assignment.  \n",
    "![](../imgs/RoadTrip_NYC_to_L.A.JPG)\n",
    "\n",
    "## Imports"
   ]
  },
  {
   "cell_type": "code",
   "execution_count": 1,
   "metadata": {},
   "outputs": [],
   "source": [
    "from typing import List, Tuple\n",
    "\n",
    "import matplotlib.pyplot as plt\n",
    "import pandas as pd\n",
    "\n",
    "%load_ext blackcellmagic"
   ]
  },
  {
   "cell_type": "markdown",
   "metadata": {},
   "source": [
    "## Construct Graph"
   ]
  },
  {
   "cell_type": "code",
   "execution_count": 2,
   "metadata": {},
   "outputs": [],
   "source": [
    "graph: dict = {\n",
    "    \"NYC\": {\"DC\": 2, \"Indianapolis\": 11, \"Pittsburg\": 7},\n",
    "    \"DC\": {\"Atlanta\": 2},\n",
    "    \"Atlanta\": {\"New Orleans\": 2},\n",
    "    \"New Orleans\": {\"Dallas\": 2},\n",
    "    \"Dallas\": {\"Albuquerque\": 2},\n",
    "    \"Albuquerque\": {\"Phoenix\": 2},\n",
    "    \"Phoenix\": {\"Las Vegas\": 2, \"San Diego\": 5},\n",
    "    \"Las Vegas\": {\"San Diego\": 2, \"Los Angeles\": 5},\n",
    "    \"San Diego\": {\"Los Angeles\": 2},\n",
    "    \"Indianapolis\": {\"Kansas City\": 8},\n",
    "    \"Kansas City\": {\"Denver\": 7},\n",
    "    \"Denver\": {\"Salt Lake City\": 6},\n",
    "    \"Salt Lake City\": {\"Las Vegas\": 9},\n",
    "    \"Pittsburg\": {\"Cincinnati\": 6},\n",
    "    \"Cincinnati\": {\"St Louis\": 8},\n",
    "    \"St Louis\": {\"Oklahoma City\": 7},\n",
    "    \"Oklahoma City\": {\"Albuquerque\": 9},\n",
    "    \"Los Angeles\": {}\n",
    "}"
   ]
  },
  {
   "cell_type": "markdown",
   "metadata": {},
   "source": [
    "## 1. BFS Algorithm  \n",
    "First, use the breadth-first algorithm to find the quickest way to get to L.A from NYC and calculate the time that it will take to get to L.A. from NYC using the breadth first algorithm.  (Even though BFS does not use weighted edges, we will indirectly use them to calculate the time of the route)."
   ]
  },
  {
   "cell_type": "code",
   "execution_count": 3,
   "metadata": {},
   "outputs": [],
   "source": [
    "def bfs(graph_to_search: dict, start: str, end: str) -> List[Tuple]:\n",
    "    \"\"\"Breadth-First Search Algorithm.\n",
    "    \n",
    "    Parameters\n",
    "    ----------\n",
    "    graph_to_search: dict\n",
    "        Graph represented as a dictionary.\n",
    "    start: str\n",
    "        Starting value.\n",
    "    end: str\n",
    "        Ending value or destination.\n",
    "        \n",
    "    Returns\n",
    "    -------\n",
    "    List[Tuple]:\n",
    "        List containing shortest path from \n",
    "        start to end (added distances).\n",
    "        Ex.: [(\"NYC\", 0), (\"DC\", 5)]\n",
    "    \"\"\"\n",
    "    queue: list = [[(start, 0)]]\n",
    "    visited: set = set()\n",
    "\n",
    "    while queue:\n",
    "        # Gets the first path in the queue\n",
    "        path: tuple = queue.pop(0)\n",
    "\n",
    "        # Gets the last node in the path\n",
    "        vertex: str = path[-1][0]\n",
    "\n",
    "        # Checks if we got to the end\n",
    "        if vertex == end:\n",
    "            return path\n",
    "        # We check if the current node is already in the visited nodes set in order not to recheck it\n",
    "        elif vertex not in visited:\n",
    "            # enumerate all adjacent nodes, construct a new path and push it into the queue\n",
    "            # for current_neighbour in graph_to_search.get(vertex, {}):\n",
    "            for k, v in graph_to_search[vertex].items():\n",
    "                new_path: List[Tuple] = list(path)\n",
    "                new_path.append((k, v))\n",
    "                queue.append(new_path)\n",
    "\n",
    "            # Mark the vertex as visited\n",
    "            visited.add(vertex)\n",
    "\n",
    "\n",
    "# Run BFS on the Graph\n",
    "shortest_path = bfs(graph, \"NYC\", \"Los Angeles\")"
   ]
  },
  {
   "cell_type": "markdown",
   "metadata": {},
   "source": [
    "## 2. Print the Route"
   ]
  },
  {
   "cell_type": "code",
   "execution_count": 4,
   "metadata": {},
   "outputs": [
    {
     "name": "stdout",
     "output_type": "stream",
     "text": [
      "NYC --> Indianapolis --> Kansas City --> Denver --> Salt Lake City --> Las Vegas --> Los Angeles\n"
     ]
    }
   ],
   "source": [
    "def calc_route(path: List[Tuple]) -> None:\n",
    "    \"\"\"Printable output for shortest path.\n",
    "    \n",
    "    Parameters\n",
    "    ----------\n",
    "    path: List[Tuple]\n",
    "        List of tuples\n",
    "        Ex. [(\"NYC\", 0), (\"DC\", 5)]\n",
    "    \n",
    "    Returns\n",
    "    -------\n",
    "    None\n",
    "    \"\"\"\n",
    "    for i, v in enumerate(path):\n",
    "        if i == len(path) - 1:\n",
    "            print(v[0])\n",
    "        else:\n",
    "            print(f\"{v[0]} --> \", end=\"\")\n",
    "\n",
    "\n",
    "calc_route(shortest_path)"
   ]
  },
  {
   "cell_type": "code",
   "execution_count": 5,
   "metadata": {},
   "outputs": [
    {
     "name": "stdout",
     "output_type": "stream",
     "text": [
      "The total distance from NYC to LA using BFS was 46\n"
     ]
    }
   ],
   "source": [
    "def calc_distance(path: List[Tuple], algo: str) -> str:\n",
    "    \"\"\"Printable output for shortest path distance.\n",
    "    \n",
    "    Parameters\n",
    "    ----------\n",
    "    path: List[Tuple]\n",
    "        List of tuples\n",
    "        Ex. [(\"NYC\", 0), (\"DC\", 5)]\n",
    "    algo: str\n",
    "        Name of algorithm.\n",
    "    \n",
    "    Returns\n",
    "    -------\n",
    "    str:\n",
    "        String output with distance.\n",
    "    \"\"\"\n",
    "    t: int = 0\n",
    "    for i in path:\n",
    "        t += i[1]\n",
    "    return f\"The total distance from NYC to LA using {algo} was {t}\"\n",
    "    \n",
    "\n",
    "print(calc_distance(shortest_path, \"BFS\"))"
   ]
  },
  {
   "cell_type": "markdown",
   "metadata": {},
   "source": [
    "## 3. Dijkstra's Algorithm  \n",
    "Next, use Dijkstra's algorithm to find the most optimal route to get to L.A from NYC, capture the time that it will take to get to L.A (use the weights in the algorithm assigned to the routes)."
   ]
  },
  {
   "cell_type": "code",
   "execution_count": 6,
   "metadata": {},
   "outputs": [],
   "source": [
    "def dijkstra(\n",
    "    graph: dict,\n",
    "    src: str,\n",
    "    dest: str,\n",
    "    visited: list = None,\n",
    "    distances: dict = None,\n",
    "    predecessors: dict = None,\n",
    ") -> None:\n",
    "    \"\"\"Recursive implementation of Dijkstra's algo.\n",
    "    \n",
    "    Parameters\n",
    "    ----------\n",
    "    graph: dict\n",
    "        Graph represented as dictionary of dictionaries.\n",
    "    src: str\n",
    "        Starting City.\n",
    "    dest: str\n",
    "        Ending City.\n",
    "    visited: list\n",
    "        List of visited cities.\n",
    "    distances: dict\n",
    "        Dictionary of distances to nodes.\n",
    "    predecessors: dict\n",
    "        Dictionary of preceding nodes in graph.\n",
    "        \n",
    "    Returns\n",
    "    -------\n",
    "    None\n",
    "    \"\"\"\n",
    "    if visited is None:\n",
    "        visited = []\n",
    "    if distances is None:\n",
    "        distances = {}\n",
    "    if predecessors is None:\n",
    "        predecessors = {}\n",
    "    # Termination Condition\n",
    "    if src == dest:\n",
    "        # Build the shortest path and print it\n",
    "        path: list = []\n",
    "        pred: str = dest\n",
    "        while pred != None:\n",
    "            path.append(pred)\n",
    "            pred = predecessors.get(pred, None)\n",
    "        # Reverse the array for printed path\n",
    "        readable = path[0]\n",
    "        for index in range(1, len(path)):\n",
    "            readable = f\"{path[index]} --> {readable}\"\n",
    "        # Print path and cost\n",
    "        print(f\"path: {readable}\")\n",
    "        print(f\"cost = {str(distances[dest])}\")\n",
    "    else:\n",
    "        # Initialize the cost on first run\n",
    "        if not visited:\n",
    "            distances[src] = 0\n",
    "        # Visit adjacent nodes\n",
    "        for neighbor in graph[src]:\n",
    "            if neighbor not in visited:\n",
    "                new_distance = distances[src] + graph[src][neighbor]\n",
    "                if new_distance < distances.get(neighbor, float(\"inf\")):\n",
    "                    distances[neighbor] = new_distance\n",
    "                    predecessors[neighbor] = src\n",
    "        # Mark as visited\n",
    "        visited.append(src)\n",
    "        # Recurse with non visited node with lowest distance.\n",
    "        unvisited: dict = {}\n",
    "        for k in graph:\n",
    "            if k not in visited:\n",
    "                unvisited[k] = distances.get(k, float(\"inf\"))\n",
    "        x = min(unvisited, key=unvisited.get)\n",
    "        dijkstra(graph, x, dest, visited, distances, predecessors)"
   ]
  },
  {
   "cell_type": "markdown",
   "metadata": {},
   "source": [
    "## 4. Print the Route"
   ]
  },
  {
   "cell_type": "code",
   "execution_count": 7,
   "metadata": {},
   "outputs": [
    {
     "name": "stdout",
     "output_type": "stream",
     "text": [
      "path: NYC --> DC --> Atlanta --> New Orleans --> Dallas --> Albuquerque --> Phoenix --> Las Vegas --> San Diego --> Los Angeles\n",
      "cost = 18\n"
     ]
    }
   ],
   "source": [
    "dijkstra(graph, \"NYC\", \"Los Angeles\")"
   ]
  },
  {
   "cell_type": "markdown",
   "metadata": {},
   "source": [
    "## 5. Compare Algorithms  \n",
    "Compare time of Breadth-first algorithm with Dijkstra's algorithm in terms of trip time, stops, computation complexity.  Discuss the reason for differences in methods."
   ]
  },
  {
   "cell_type": "code",
   "execution_count": 8,
   "metadata": {},
   "outputs": [
    {
     "data": {
      "text/html": [
       "<div>\n",
       "<style scoped>\n",
       "    .dataframe tbody tr th:only-of-type {\n",
       "        vertical-align: middle;\n",
       "    }\n",
       "\n",
       "    .dataframe tbody tr th {\n",
       "        vertical-align: top;\n",
       "    }\n",
       "\n",
       "    .dataframe thead th {\n",
       "        text-align: right;\n",
       "    }\n",
       "</style>\n",
       "<table border=\"1\" class=\"dataframe\">\n",
       "  <thead>\n",
       "    <tr style=\"text-align: right;\">\n",
       "      <th></th>\n",
       "      <th>Algorithm</th>\n",
       "      <th>Stops</th>\n",
       "      <th>TripTime</th>\n",
       "    </tr>\n",
       "  </thead>\n",
       "  <tbody>\n",
       "    <tr>\n",
       "      <th>0</th>\n",
       "      <td>BFS</td>\n",
       "      <td>6</td>\n",
       "      <td>46</td>\n",
       "    </tr>\n",
       "    <tr>\n",
       "      <th>1</th>\n",
       "      <td>Dijkstra's</td>\n",
       "      <td>10</td>\n",
       "      <td>18</td>\n",
       "    </tr>\n",
       "  </tbody>\n",
       "</table>\n",
       "</div>"
      ],
      "text/plain": [
       "    Algorithm  Stops  TripTime\n",
       "0         BFS      6        46\n",
       "1  Dijkstra's     10        18"
      ]
     },
     "execution_count": 8,
     "metadata": {},
     "output_type": "execute_result"
    }
   ],
   "source": [
    "compare_df: pd.DataFrame = pd.DataFrame(\n",
    "    {\"Algorithm\": [\"BFS\", \"Dijkstra's\"], \"Stops\": [6, 10], \"TripTime\": [46, 18],}\n",
    ")\n",
    "    \n",
    "compare_df"
   ]
  },
  {
   "cell_type": "markdown",
   "metadata": {},
   "source": [
    "## 6. Visualize Algorithm Performance  \n",
    "Use Python (matplotlib or Seaborn) or JavaScript (D3) visualization tools to illustrate algorithm performance."
   ]
  },
  {
   "cell_type": "code",
   "execution_count": 9,
   "metadata": {},
   "outputs": [
    {
     "data": {
      "image/png": "[encoded data removed]",
      "text/plain": [
       "<Figure size 720x360 with 1 Axes>"
      ]
     },
     "metadata": {
      "needs_background": "light"
     },
     "output_type": "display_data"
    }
   ],
   "source": [
    "compare_df.plot.scatter(x=\"TripTime\", y=\"Stops\", s=400, figsize=(10, 5))\n",
    "plt.text(x=42, y=6.5, s=\"BFS: 6 stops for 46 distance\")\n",
    "plt.text(x=19, y=10, s=\"Dijkstra's Algo: 10 stops for 18 distance\")\n",
    "plt.title(\"Dijkstra's Algorithm vs Breadth-First-Search\")\n",
    "plt.show()"
   ]
  },
  {
   "cell_type": "markdown",
   "metadata": {},
   "source": [
    "We can clearly see that the BFS found a much shorter path to the destination in terms of stops, resulting in only 6 total stops, but it totalled 46 units in distance. Dijkstra's Algorithm took 10 stops, but it achieved a minimal distance of 18 units.  The comparison isn't quite fair as BFS is meant for an unweighted graph and Dijkstra's is intended for a weighted graph with all positive weights. I'm not sure if this graph is the best way to display the disparity, but it seems to get the point across. In a situation where the distance between stops is known, the Dijkstra's Algorithm outperforms BFS by a large margin."
   ]
  },
  {
   "cell_type": "markdown",
   "metadata": {},
   "source": [
    "## Executive Summary  \n",
    "Dijkstra's Algorithm can be utilized in a number of situations. Many data models can be represented as graphs, and Dijkstra's Algorithm can be a fast and easy solution to finding shortest paths between nodes. Our company can use this methodology in our logistics applications to determine the shortest distance between two destinations. The packages we deliver can be completed with the most efficient route. If our company decides to build a social media application, we can use BFS to find followers in an equally efficient manner. Both of these algorithms are useful in their own way and can help our company if used in the correct context.\n",
    "\n",
    "### Reference  \n",
    "[1] Bhargava, A. Y. (2016). Grokking algorithms: An illustrated guide for programmers and other curious people."
   ]
  }
 ],
 "metadata": {
  "kernelspec": {
   "display_name": "msds-432",
   "language": "python",
   "name": "msds-432"
  },
  "language_info": {
   "codemirror_mode": {
    "name": "ipython",
    "version": 3
   },
   "file_extension": ".py",
   "mimetype": "text/x-python",
   "name": "python",
   "nbconvert_exporter": "python",
   "pygments_lexer": "ipython3",
   "version": "3.7.3"
  }
 },
 "nbformat": 4,
 "nbformat_minor": 4
}
