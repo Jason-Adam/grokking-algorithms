{
 "cells": [
  {
   "cell_type": "markdown",
   "metadata": {},
   "source": [
    "# MSDS-432: Module 3 - Implement a Recursive Algorithm  \n",
    "Jason Adam  \n",
    "\n",
    "## Imports"
   ]
  },
  {
   "cell_type": "code",
   "execution_count": 1,
   "metadata": {},
   "outputs": [],
   "source": [
    "import functools\n",
    "import os\n",
    "import string\n",
    "import time\n",
    "from typing import List\n",
    "\n",
    "import matplotlib.pyplot as plt\n",
    "import numpy as np\n",
    "import pandas as pd\n",
    "\n",
    "%load_ext blackcellmagic\n",
    "\n",
    "# GLOBAL\n",
    "RAND_SEED: int = 432"
   ]
  },
  {
   "cell_type": "code",
   "execution_count": 2,
   "metadata": {},
   "outputs": [],
   "source": [
    "class TimeFunc:\n",
    "    \"\"\"Decorator to return run time of function in seconds.\"\"\"\n",
    "    def __init__(self, func):\n",
    "        functools.update_wrapper(self, func)\n",
    "        self.func = func\n",
    "        self.func_time = 0\n",
    "        \n",
    "    def __call__(self, *args, **kwargs):\n",
    "        start_time = time.perf_counter()\n",
    "        result = self.func(*args, **kwargs)\n",
    "        end_time = time.perf_counter()\n",
    "        run_time = end_time - start_time\n",
    "        self.func_time = run_time\n",
    "        return result"
   ]
  },
  {
   "cell_type": "markdown",
   "metadata": {},
   "source": [
    "## 1. Create Array of Random Integers  \n",
    "Set up an array of ten random numbers between 100 and 500 (just one array with 10 numbers)."
   ]
  },
  {
   "cell_type": "code",
   "execution_count": 9,
   "metadata": {},
   "outputs": [
    {
     "name": "stdout",
     "output_type": "stream",
     "text": [
      "[122, 183, 217, 221, 270, 270, 295, 337, 389, 479]\n"
     ]
    }
   ],
   "source": [
    "#np.random.seed(RAND_SEED)\n",
    "nums: List[int] = sorted([int(i) for i in np.random.randint(100, 500, 10)])\n",
    "\n",
    "print(nums)"
   ]
  },
  {
   "cell_type": "markdown",
   "metadata": {},
   "source": [
    "## 2. Calculate Factorial - For Loop  \n",
    "Calculate the factorial of each of the numbers using a simple FOR loop.  Please capture the start/end times and store the results in an array, or linked list, or dictionary. "
   ]
  },
  {
   "cell_type": "code",
   "execution_count": 10,
   "metadata": {},
   "outputs": [],
   "source": [
    "@TimeFunc\n",
    "def fact_fl(x: int) -> int:\n",
    "    \"\"\"Calculate the factorial.\n",
    "    \n",
    "    This function uses a simple for loop.\n",
    "    \n",
    "    Parameters\n",
    "    ----------\n",
    "    x int:\n",
    "        Integer value to calculate the factorial for.\n",
    "        \n",
    "    Returns\n",
    "    -------\n",
    "    int:\n",
    "        The factorial of the input value.\n",
    "    \"\"\"\n",
    "    if x <= 0:\n",
    "        raise ValueError(f\"{x} is not a positive integer\")\n",
    "    else:\n",
    "        y: int = 1\n",
    "        for i in range(1, x + 1):\n",
    "            y *= i\n",
    "\n",
    "        return y"
   ]
  },
  {
   "cell_type": "markdown",
   "metadata": {},
   "source": [
    "## 3. Calculate Factorial - Recursion  \n",
    "Calculate the factorial of each of the numbers using recursion.  Please capture the start/end times and store the results in an array, or linked list, or dictionary."
   ]
  },
  {
   "cell_type": "code",
   "execution_count": 11,
   "metadata": {},
   "outputs": [],
   "source": [
    "@TimeFunc\n",
    "def fact(x: int) -> int:\n",
    "    \"\"\"Calculate the factorial.\n",
    "    \n",
    "    This function uses recursion.\n",
    "    \n",
    "    Parameters\n",
    "    ----------\n",
    "    x int:\n",
    "        Integer value to calculate the factorial for.\n",
    "        \n",
    "    Returns\n",
    "    -------\n",
    "    int:\n",
    "        The factorial of the input value.\n",
    "    \"\"\"\n",
    "    if x <= 0:\n",
    "        raise ValueError(f\"{x} is not a positive integer\")\n",
    "    if x == 1:\n",
    "        return 1\n",
    "    else:\n",
    "        return x * fact(x - 1)"
   ]
  },
  {
   "cell_type": "markdown",
   "metadata": {},
   "source": [
    "## 4. Organize the Results  \n",
    "Organize the results of the study into a table showing the number, it's factorial, the time to calculate the factorial using recursion, the time to calculate factorial using FOR loop, and the difference between times.  \n",
    "\n",
    "I decided to run both experiments within the same section below."
   ]
  },
  {
   "cell_type": "code",
   "execution_count": 12,
   "metadata": {},
   "outputs": [],
   "source": [
    "def run_experiment(l: List[int]) -> dict:\n",
    "    \"\"\"Run Factorial Experiment and collect times.\n",
    "    \n",
    "    Parameters\n",
    "    ----------\n",
    "    l List[int]:\n",
    "        A list of non-negative integers.\n",
    "    \n",
    "    Returns\n",
    "    -------\n",
    "    dict:\n",
    "        Dictionary with following keys:\n",
    "        {\n",
    "            \"starting_int:\" [],\n",
    "            \"factorial\": [],\n",
    "            \"for_loop_time\": [],\n",
    "            \"recursion_time\": [],\n",
    "            \"recursion_less_fl\": [],\n",
    "        }\n",
    "    \"\"\"\n",
    "    results = {\n",
    "        \"starting_int\": [],\n",
    "        \"factorial\": [],\n",
    "        \"for_loop_time\": [],\n",
    "        \"recursion_time\": [],\n",
    "        \"recursion_less_fl\": [],\n",
    "    }\n",
    "    for i in l:\n",
    "        results[\"starting_int\"].append(i)\n",
    "        results[\"factorial\"].append(fact_fl(i))\n",
    "        results[\"for_loop_time\"].append(fact_fl.func_time * 1000)\n",
    "        fact(i)\n",
    "        results[\"recursion_time\"].append(fact.func_time * 1000)\n",
    "        results[\"recursion_less_fl\"].append(fact.func_time - fact_fl.func_time)\n",
    "\n",
    "    return results"
   ]
  },
  {
   "cell_type": "code",
   "execution_count": 7,
   "metadata": {},
   "outputs": [
    {
     "name": "stdout",
     "output_type": "stream",
     "text": [
      "starting_int = 115\n",
      "factorial = 2925093693\n",
      "for_loop_time = 0.01793100000213599\n",
      "recursion_time = 0.245259999985592\n",
      "recursion_less_fl = 0.00022732899998345601\n"
     ]
    }
   ],
   "source": [
    "results = run_experiment(nums)\n",
    "\n",
    "# Print first entry in each key to make sure populated.\n",
    "# truncate factorial for easier printing.\n",
    "for k, v in results.items():\n",
    "    if k == \"factorial\":\n",
    "        print(f\"{k} = {str(v[0])[0:10]}\")\n",
    "    else:\n",
    "        print(f\"{k} = {v[0]}\")"
   ]
  },
  {
   "cell_type": "markdown",
   "metadata": {},
   "source": [
    "## 5. Plot the Execution Times  \n",
    "Use python matplotlib or seaborn to generate a graph that has number on the horizontal axis and with execution time in milliseconds on the vertical axis. The plot should show execution times of recursion and the loop."
   ]
  },
  {
   "cell_type": "code",
   "execution_count": 84,
   "metadata": {},
   "outputs": [
    {
     "data": {
      "image/png": "[encoded data removed]",
      "text/plain": [
       "<Figure size 720x360 with 1 Axes>"
      ]
     },
     "metadata": {
      "needs_background": "light"
     },
     "output_type": "display_data"
    }
   ],
   "source": [
    "def comparison_plot():\n",
    "    fig, ax = plt.subplots(figsize=(10, 5))\n",
    "\n",
    "    ax.plot(results[\"starting_int\"], results[\"for_loop_time\"], color=\"blue\")\n",
    "    ax.plot(results[\"starting_int\"], results[\"recursion_time\"], color=\"orange\")\n",
    "    ax.set_title(\"Factorial Calculation - For Loop vs Recursion\")\n",
    "    ax.set_ylabel(\"Time (Milliseconds)\")\n",
    "    ax.set_xlabel(\"Starting Integer\")\n",
    "    ax.legend([\"For Loop\", \"Recursion\"])\n",
    "    plt.show()\n",
    "    \n",
    "\n",
    "comparison_plot()"
   ]
  },
  {
   "cell_type": "markdown",
   "metadata": {},
   "source": [
    "## Extra Credit 2: Directory Tree Traversal  \n",
    "The files on a hard drive are saved in a tree-like structure.  Write a function that will print out every file from a given root using a recursive algorithm.  This is called Directory Tree Traversal (https://www.pythoncentral.io/how-to-traverse-a-directory-tree-in-python-guide-to-os-walk/).  You may not use any packages to do this (like `os.walk`, or `glob`), except to list the files and directories in a single directory.  In other words, you are responsible for the traversal."
   ]
  },
  {
   "cell_type": "code",
   "execution_count": 151,
   "metadata": {},
   "outputs": [],
   "source": [
    "def dir_tree_traverse(dir: str):\n",
    "    if os.path.isfile(dir):\n",
    "        print(dir.split(\"/\")[-1])\n",
    "\n",
    "    if os.path.isdir(dir):\n",
    "        for d in os.listdir(dir):\n",
    "            if os.path.isfile(os.path.join(dir, d)):\n",
    "                print(d)\n",
    "            else:\n",
    "                dir_tree_traverse(os.path.join(dir, d))"
   ]
  },
  {
   "cell_type": "markdown",
   "metadata": {},
   "source": [
    "This satisfies the base requirement, but it could be extended to exclude dot files and/or handle errors."
   ]
  },
  {
   "cell_type": "code",
   "execution_count": 149,
   "metadata": {},
   "outputs": [
    {
     "name": "stdout",
     "output_type": "stream",
     "text": [
      "LICENSE\n",
      "Makefile\n",
      "pyproject.toml\n",
      "README.md\n",
      ".gitignore\n",
      "binary_search-checkpoint.ipynb\n",
      "poetry.lock\n",
      "ORIG_HEAD\n",
      "config\n",
      "416d4913406f3984c2607beb946ada841f11bd\n",
      "3890371ba85cdf10d828962abbbcf600fa24c2\n",
      "8ff827340fde3a6b69a9456eb9456d5490c103\n",
      "d58eeea893a53a767746368d4dfe47fe41ba09\n",
      "f6cec90e707d4a966969a6104bc7a58af53dbd\n",
      "fa3c797d843b2a1900c491e077b700046ad6dd\n",
      "159db9ff450ca7a90f7ff6c5b0eccb0b4921be\n",
      "cd0ecd90f4231a637dff6491e58b5011cf08b4\n",
      "6899a940f8dfbad4bdf3584475f73c442e986b\n",
      "7404b4013db8f64695b2bd1da49e88bf4b822a\n",
      "d1b2a9392684cc17e07d15574084a551d3e50b\n",
      "471f8dc349f83b9e1161deeb858219046086d1\n",
      "7f6fc52f96afe41d70272f823e3140304470c4\n",
      "ccaf3a0ed736e929b55bf92433863d1f11c308\n",
      "0e17524a9d17fca2cfabe8ac4e58891e250234\n",
      "bd1b89c3de33a60e58586a190d606768025098\n",
      "f13084bf22cf8cbe7de9eb559563ced6099e1e\n",
      "0ec9cee3cb34c702981a0d24e71dc8e8c3b462\n",
      "5c36e9515de6c6d5ad3fb08e06d8275ae1f0d8\n",
      "ddf1a0fae92c1eaa9631e41ec4725b36331028\n",
      "75e3ae63f561e5e7bfea9179c8a58b572dd9dd\n",
      "db088994fae7cbf594bc0f65001d8dd46f7ca3\n",
      "ef6918166f02d8f2e81d43f35baf35000f7165\n",
      "ba2aed09eeaf74f036aa4ffddf60c929986594\n",
      "b0e2cf011348c112db1c99308f59b4c61a1682\n",
      "516ef5bdba9ff14cde5d4e8f81854fab9e8cf1\n",
      "32576d013febb2ba5e32b702597c9844795e89\n",
      "8fd72713b3650a9df55c5b261e008ce4848284\n",
      "916c3334e4b55cb39763f32929de908bb14417\n",
      "00c6956bd294cb97d446eba1bfec77a6f294b0\n",
      "ed66a93b657029b387e870c1d4c70a9bfbd1ee\n",
      "56fe18b531bd62742ae49a00fe2245e66c5c7c\n",
      "763291f31cf02b28d9959311728a90082ba58f\n",
      "ddb29aa445bf3d6a5d843d6dd77e10a9f99657\n",
      "7edf211a2f2a54cdbce56a6d1502b1e52fb761\n",
      "5ca7be75d35ca7f9d134943b8f55164cb8d73b\n",
      "46fd0cfdcbd1c911de2b13767aebaed3f328c5\n",
      "9d34e4cfb8f54a1415094eefb04f6fa97d689a\n",
      "a29b211dbb3574e023ed396be87f9cbe1cfe90\n",
      "738efa6b3e4c7a8303ba525232c109a33f7831\n",
      "82926cbf21d44f5bbb78afc6ec288dab49870c\n",
      "d5dce83d0da5cd2ab8379dcf6d4483f996625f\n",
      "f1a3eb4ca028090be9c1c2eec0a188eb9b2988\n",
      "4a44cc066a027465cd26d634948d56d13af9af\n",
      "86112e68a8a07aa6df04f5e3d80462d745c183\n",
      "7d0403a181721ab89b35bfd8fbe18fd7f05f44\n",
      "2d10492978e5def0227b2f9997a4f2b8cfb6bb\n",
      "6ba288be4a6a315a1a64931b8a9d1c7a88cbbe\n",
      "4931a84683e29c7e5f5ca257af395068e75612\n",
      "8ac2864ec9eb4c586e56b0dc279da1c5a5e9ec\n",
      "531bf1d7eb258040fd983e35915c9479a27359\n",
      "be570bdef35c784157982b16dfc1327a30bc32\n",
      "2f1796f49074e7e3183fcd8f71505a2c2ed6fb\n",
      "8054a163c5d17398f7e64a75e6c034bf716bea\n",
      "9fcf57926f3ab0c1c191737ba3904b5cad9ae6\n",
      "c6d6e7d3b4e7946263a8d6a020b71921cc8439\n",
      "f3f4ccdc07115d077c44704f5273e0eaa9f759\n",
      "108c0127052a1a4f059b1fa1938ab4558c2beb\n",
      "837adcb5d483088369ecb845c33d2ef20fcd71\n",
      "716b460622eaf5daf95d6ef1df747e4b010cf1\n",
      "95db00a0c3bd9999f4aab3f764bfa4a2c610a9\n",
      "ae62314cd88e3aa3da6f86c544558d7479abf0\n",
      "e4db0dea5e0fe7ec20713b4bbf05f297a6d6cd\n",
      "3f624fba2af56f3c7632eb3e3a53bca8b8f4f0\n",
      "07c1d4bd920853dc733597361b795fa6ba7bd6\n",
      "4b10a4af5530bd8f3b90eeaf33d5b030c8e0ba\n",
      "54f50a275c1c0f2d91017370115cd9c2431f5b\n",
      "4dd44555fb77d631a95c5a4df38182b0f959fb\n",
      "f02f68f2d56c12930043ac17bd43bc0ca36169\n",
      "46e516371aa219a6fd20c4ca3a801ccd0989e9\n",
      "b27174be0b89fabefc2a287917e8aabd70dfed\n",
      "34bb0ca212e6dfe4a41dcc56e71240bd8ebfb0\n",
      "a1f067a3c08775a8243120fc3c7041dba8ad49\n",
      "664f01eb0fb3ddff5523ecb12177a33128cc95\n",
      "0c7258516068f23106f453fd7cd78cd7158597\n",
      "5af1d1f51cda725c2e8d8ac46f10e894ef6ec0\n",
      "34d316f0b41089bbc4432175c021d775d854b0\n",
      "09ed9491584e68a004a961dd974b099cb38173\n",
      "b249edc6500ba87c9644a5488c17b4470562e0\n",
      "d488578a6e60122060d29a49a881f10e13f011\n",
      "1ff65fb189cfbf37b0b8773beed40e46d4b98a\n",
      "HEAD\n",
      "exclude\n",
      "HEAD\n",
      "master\n",
      "HEAD\n",
      "master\n",
      "description\n",
      "commit-msg.sample\n",
      "pre-rebase.sample\n",
      "pre-commit.sample\n",
      "applypatch-msg.sample\n",
      "fsmonitor-watchman.sample\n",
      "pre-receive.sample\n",
      "prepare-commit-msg.sample\n",
      "post-update.sample\n",
      "pre-applypatch.sample\n",
      "pre-push.sample\n",
      "update.sample\n",
      "master\n",
      "HEAD\n",
      "master\n",
      "index\n",
      "packed-refs\n",
      "COMMIT_EDITMSG\n",
      "FETCH_HEAD\n",
      "module01.html\n",
      "module02.ipynb\n",
      "module02-checkpoint.ipynb\n",
      "module03-checkpoint.ipynb\n",
      "module01-checkpoint.ipynb\n",
      "module01.ipynb\n",
      "module02.html\n",
      "module03.ipynb\n"
     ]
    }
   ],
   "source": [
    "# Lets try on the root of this repo.\n",
    "# We should see quite a bit of git stuff too.\n",
    "dir_tree_traverse(\"../\")"
   ]
  },
  {
   "cell_type": "markdown",
   "metadata": {},
   "source": [
    "## Executive Summary  \n",
    "It is quite obvious from our graphic above that a for loop is much faster than a recursive function call for this use case. Our recursive function must save the information for each function call until it reaches the termination criteria. Once it reaches the criteria, the functions begin returning starting at the innermost call. This becomes memory intensive very quickly, especially when calculating factorials as they produce large integers. This is part of the reason that python caps out a recursive function at 1000 calls as a default. It can become quite easy to run out of memory in that time span when dealing with bigger amounts of data.  \n",
    "\n",
    "I recommend that management only consider a recursive function when the solution will not hinder performance. Recursive functions can be much simpler and easier to read than convoluted for loops, thus making them maintainable for future developers. Thorough bencharmking is also recommended to ensure that a recursive call will not throw out of memory errors or run infinitely (lacks termination criteria)."
   ]
  }
 ],
 "metadata": {
  "kernelspec": {
   "display_name": "msds-432",
   "language": "python",
   "name": "msds-432"
  },
  "language_info": {
   "codemirror_mode": {
    "name": "ipython",
    "version": 3
   },
   "file_extension": ".py",
   "mimetype": "text/x-python",
   "name": "python",
   "nbconvert_exporter": "python",
   "pygments_lexer": "ipython3",
   "version": "3.8.3"
  }
 },
 "nbformat": 4,
 "nbformat_minor": 4
}
