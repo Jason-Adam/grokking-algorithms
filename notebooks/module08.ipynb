{
 "cells": [
  {
   "cell_type": "markdown",
   "metadata": {},
   "source": [
    "# MSDS-432: Module 8 - Implementing a Greedy Algorithm  \n",
    "Jason Adam  \n",
    "\n",
    "## Imports"
   ]
  },
  {
   "cell_type": "code",
   "execution_count": 42,
   "metadata": {},
   "outputs": [],
   "source": [
    "from pprint import pprint"
   ]
  },
  {
   "cell_type": "markdown",
   "metadata": {},
   "source": [
    "## 1. Security Company  \n",
    "Assume you run a small security company that provides physical security services in the area and you recently won a new contract in the area to provide 24x7 security to a small building under construction. For simplicity we will design the solution for only 24 hours, but if you want to go above and beyond, feel free to write code that handles the 24x7 scenario as well.  \n",
    "\n",
    "## 2. Security Guards  \n",
    "You have 6 security guards available at the moment who you can assign to this building but your goal is to make more money out of this contract and spend less in wages (hence greedy!)  \n",
    "\n",
    "## 3. Cost/Wage Structure  \n",
    "* People working less than or equal to 8 hours will be paid \\$15 per hour.  \n",
    "* Anyone working overtime (> 8 hours) will be paid an additional 5 dollars, i.e. \\$20 per hour.  \n",
    "\n",
    "## 4. Greedy Algorithm  \n",
    "Create a greedy algorithm (come up with any algorithm of your own) that finds you the most cost effective solution e.g. Should we appoint 2 security guards for 12 hours each? Or 3 of them for 8 hours each? Or 4 for 6 hours each? Or all 6 for 4 hours each? Or any other combination?  \n",
    "\n",
    "Write the greedy algorithm, run it, and record the solution that your algorithm produces.  Please answer the following questions regarding your solution:\n",
    "\n",
    "* Explain your algorithm in detail.  How is it greedy?  \n",
    "* What is the complexity of your solution?  \n",
    "* Did the greedy algorithm provide the best solution or could there be an alternative/better solution to your problem?  Why or why not?  \n",
    "* If the scenario had different values for the inputs would your algorithm still be successful?  Eg. more than 24 hours, higher overtime, shorter shifts, or values that don't factor so nicely.  Why or why not?  What things would change the optimal output?  \n",
    "* If you were not constrained to a greedy algorithm, what approaches would you take to solve the problem?  "
   ]
  },
  {
   "cell_type": "code",
   "execution_count": 140,
   "metadata": {},
   "outputs": [],
   "source": [
    "# Variables\n",
    "days: list = [\"Sunday\", \"Monday\", \"Tuesday\", \"Wednesday\", \"Thursday\", \"Friday\", \"Saturday\"]\n",
    "hours: list = [h for h in range(1, 25)]\n",
    "total_guards: int = 6\n",
    "regular_hours: int = 8\n",
    "weekly_hours: int = 40\n",
    "guard_hours: dict = {i: {d: 0 for d in days} for i in range(1, total_guards+1)}\n",
    "for k in guard_hours.keys():\n",
    "    guard_hours[k][\"weekly_ttl\"] = 0\n",
    "\n",
    "schedule: dict = {d: {h: 0 for h in hours} for d in days}"
   ]
  },
  {
   "cell_type": "code",
   "execution_count": 143,
   "metadata": {},
   "outputs": [],
   "source": [
    "# Recursive Function to fill the weekly schedule.\n",
    "def fill_schedule():\n",
    "    for guard in guard_hours.keys():\n",
    "        if guard_hours[guard][\"weekly_ttl\"] >= weekly_hours:\n",
    "            continue\n",
    "        else:\n",
    "            for d in schedule.keys():\n",
    "                if guard_hours[guard][d] >= regular_hours:\n",
    "                    continue\n",
    "                else: \n",
    "                    for hour in schedule[d].keys():\n",
    "                        if schedule[d][hour] != 0:\n",
    "                            continue\n",
    "                        else:\n",
    "                            # Place the guard in the time slot.\n",
    "                            schedule[d][hour] = guard\n",
    "                            # Increment their hours\n",
    "                            guard_hours[guard][d] += 1\n",
    "                            guard_hours[guard][\"weekly_ttl\"] += 1\n",
    "                            # Recurse\n",
    "                            fill_schedule()\n",
    "                            \n",
    "fill_schedule()"
   ]
  },
  {
   "cell_type": "markdown",
   "metadata": {},
   "source": [
    "My algorithm performs an initial check on the guard to ensure they've not gone above the weekly limit before overtime (40 hours). If they have not gone above 40 hours for the week, a day is chosen from the schedule, and if they have not gone above 8 hours for the day, then they can fill the next open hourly slot. This hourly slot is now filled and the algorithm is called recursively until all time slots have been filled. Below we can see that the schedule has indeed been filled. The algorithm is greedy because it fills up the first guard until they hit daily and weekly capacity before moving to the next guard. This can bee seen below whereby the schedule is exactly the same on Sunday, Monday, Tuesday, Wednesday, Thursday. The same three employees work the same hours on those days. After 5 days, each of the 3 guards are full for the week, and the remaining two days are identical for the remaining guards.  \n",
    "\n",
    "My algorithm should be able to handel different hour restrictions easily as long as the duration is within a week. The algorithm fills by the hour by the day, so shift sizes shouldn't be an issue. If the problem were extended to a monthly problem, it would require an additional high level validation above the weekly check in the function call.  \n",
    "\n",
    "I feel like this is an optimal solution for a greedy algorithm on this problem. You could perhaps try to evenly distribute the hours, but that defeats the point of a greedy algo.  \n",
    "\n",
    "If I were not constrained to a greedy algorithm, I'd set up a linear integer programming problem. This is a schedule optimization problem that aims to minimize cost (objective function) with several simple constraints (i.e. daily, weekly, monthly hours).  \n",
    "\n",
    "I'm not entirely sure how to determine my complexity with my nested setup. Each call starts with only 1 guard so that's $O(1)$, then each sub call loops over the days in the week ($O(n)$), then each call underneath that loops through the hours in the day ($O(n)$). This leads me to believe that my overall complexity is $O(n^2)$."
   ]
  },
  {
   "cell_type": "code",
   "execution_count": 151,
   "metadata": {},
   "outputs": [
    {
     "name": "stdout",
     "output_type": "stream",
     "text": [
      "{'Sunday': {1: 1, 2: 1, 3: 1, 4: 1, 5: 1, 6: 1, 7: 1, 8: 1, 9: 2, 10: 2, 11: 2, 12: 2, 13: 2, 14: 2, 15: 2, 16: 2, 17: 3, 18: 3, 19: 3, 20: 3, 21: 3, 22: 3, 23: 3, 24: 3}, 'Monday': {1: 1, 2: 1, 3: 1, 4: 1, 5: 1, 6: 1, 7: 1, 8: 1, 9: 2, 10: 2, 11: 2, 12: 2, 13: 2, 14: 2, 15: 2, 16: 2, 17: 3, 18: 3, 19: 3, 20: 3, 21: 3, 22: 3, 23: 3, 24: 3}, 'Tuesday': {1: 1, 2: 1, 3: 1, 4: 1, 5: 1, 6: 1, 7: 1, 8: 1, 9: 2, 10: 2, 11: 2, 12: 2, 13: 2, 14: 2, 15: 2, 16: 2, 17: 3, 18: 3, 19: 3, 20: 3, 21: 3, 22: 3, 23: 3, 24: 3}, 'Wednesday': {1: 1, 2: 1, 3: 1, 4: 1, 5: 1, 6: 1, 7: 1, 8: 1, 9: 2, 10: 2, 11: 2, 12: 2, 13: 2, 14: 2, 15: 2, 16: 2, 17: 3, 18: 3, 19: 3, 20: 3, 21: 3, 22: 3, 23: 3, 24: 3}, 'Thursday': {1: 1, 2: 1, 3: 1, 4: 1, 5: 1, 6: 1, 7: 1, 8: 1, 9: 2, 10: 2, 11: 2, 12: 2, 13: 2, 14: 2, 15: 2, 16: 2, 17: 3, 18: 3, 19: 3, 20: 3, 21: 3, 22: 3, 23: 3, 24: 3}, 'Friday': {1: 4, 2: 4, 3: 4, 4: 4, 5: 4, 6: 4, 7: 4, 8: 4, 9: 5, 10: 5, 11: 5, 12: 5, 13: 5, 14: 5, 15: 5, 16: 5, 17: 6, 18: 6, 19: 6, 20: 6, 21: 6, 22: 6, 23: 6, 24: 6}, 'Saturday': {1: 4, 2: 4, 3: 4, 4: 4, 5: 4, 6: 4, 7: 4, 8: 4, 9: 5, 10: 5, 11: 5, 12: 5, 13: 5, 14: 5, 15: 5, 16: 5, 17: 6, 18: 6, 19: 6, 20: 6, 21: 6, 22: 6, 23: 6, 24: 6}}\n"
     ]
    }
   ],
   "source": [
    "print(schedule)"
   ]
  },
  {
   "cell_type": "markdown",
   "metadata": {},
   "source": [
    "Below we can see that none of the guards have surpassed 8 hours in a day or 40 hours in the week."
   ]
  },
  {
   "cell_type": "code",
   "execution_count": 149,
   "metadata": {},
   "outputs": [
    {
     "name": "stdout",
     "output_type": "stream",
     "text": [
      "{1: {'Friday': 0,\n",
      "     'Monday': 8,\n",
      "     'Saturday': 0,\n",
      "     'Sunday': 8,\n",
      "     'Thursday': 8,\n",
      "     'Tuesday': 8,\n",
      "     'Wednesday': 8,\n",
      "     'weekly_ttl': 40},\n",
      " 2: {'Friday': 0,\n",
      "     'Monday': 8,\n",
      "     'Saturday': 0,\n",
      "     'Sunday': 8,\n",
      "     'Thursday': 8,\n",
      "     'Tuesday': 8,\n",
      "     'Wednesday': 8,\n",
      "     'weekly_ttl': 40},\n",
      " 3: {'Friday': 0,\n",
      "     'Monday': 8,\n",
      "     'Saturday': 0,\n",
      "     'Sunday': 8,\n",
      "     'Thursday': 8,\n",
      "     'Tuesday': 8,\n",
      "     'Wednesday': 8,\n",
      "     'weekly_ttl': 40},\n",
      " 4: {'Friday': 8,\n",
      "     'Monday': 0,\n",
      "     'Saturday': 8,\n",
      "     'Sunday': 0,\n",
      "     'Thursday': 0,\n",
      "     'Tuesday': 0,\n",
      "     'Wednesday': 0,\n",
      "     'weekly_ttl': 16},\n",
      " 5: {'Friday': 8,\n",
      "     'Monday': 0,\n",
      "     'Saturday': 8,\n",
      "     'Sunday': 0,\n",
      "     'Thursday': 0,\n",
      "     'Tuesday': 0,\n",
      "     'Wednesday': 0,\n",
      "     'weekly_ttl': 16},\n",
      " 6: {'Friday': 8,\n",
      "     'Monday': 0,\n",
      "     'Saturday': 8,\n",
      "     'Sunday': 0,\n",
      "     'Thursday': 0,\n",
      "     'Tuesday': 0,\n",
      "     'Wednesday': 0,\n",
      "     'weekly_ttl': 16}}\n"
     ]
    }
   ],
   "source": [
    "pprint(guard_hours)"
   ]
  },
  {
   "cell_type": "markdown",
   "metadata": {},
   "source": [
    "## Executive Summary  \n",
    "Overall, the greedy algorithm implemented does a pretty good job of managing our weekly schedule so that we can properly staff our security detail without paying out overtime for the day or week. Future improvements to our algorithm could include inputs for adjusting hours, max weekly hours, or even monthly hours. If the needs become complex, an alternative optimization solution can be implemented that is better suited to handling a number of contraints.\n",
    "\n",
    "### Reference  \n",
    "[1] Bhargava, A. Y. (2016). Grokking algorithms: An illustrated guide for programmers and other curious people."
   ]
  }
 ],
 "metadata": {
  "kernelspec": {
   "display_name": "msds-432",
   "language": "python",
   "name": "msds-432"
  },
  "language_info": {
   "codemirror_mode": {
    "name": "ipython",
    "version": 3
   },
   "file_extension": ".py",
   "mimetype": "text/x-python",
   "name": "python",
   "nbconvert_exporter": "python",
   "pygments_lexer": "ipython3",
   "version": "3.7.3"
  }
 },
 "nbformat": 4,
 "nbformat_minor": 4
}
