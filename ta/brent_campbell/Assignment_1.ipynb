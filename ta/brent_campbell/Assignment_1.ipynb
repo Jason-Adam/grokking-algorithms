{
 "cells": [
  {
   "cell_type": "code",
   "execution_count": 22,
   "metadata": {},
   "outputs": [],
   "source": [
    "import numpy as np\n",
    "import pandas as pd\n",
    "import time \n",
    "import timeit\n",
    "from time import perf_counter \n",
    "import matplotlib.pyplot as plt  \n",
    "import seaborn as sns \n",
    "import six \n",
    "\n",
    "\n",
    "\n",
    "from random import seed\n",
    "from random import random\n",
    "\n",
    "np.random.seed(1)\n",
    "\n",
    "#print(random())\n",
    "\n",
    "\n",
    "#set1 = sorted(np.random.randint(0, 10000, 512))\n",
    "#set1 = np.sort(np.random.randint(0, 10000, 512))\n",
    "\n",
    "#Create Five Arrays Containing Values Between 0 and 10,0000 With Different Lengths \n",
    "arr_1 = np.random.randint(1, 10001, 512)\n",
    "arr_2 = np.random.randint(1, 10001, 1024)\n",
    "arr_3 = np.random.randint(1, 10001, 2048)\n",
    "arr_4 = np.random.randint(1, 10001, 4096)\n",
    "arr_5 = np.random.randint(1, 10001, 8192)\n",
    "\n",
    "#arr_6 = np.random.randint(9999, 10001, 20)\n",
    "\n",
    "\n",
    "#https://docs.scipy.org/doc/numpy-1.15.1/reference/generated/numpy.random.randint.html\n",
    "\n"
   ]
  },
  {
   "cell_type": "code",
   "execution_count": 23,
   "metadata": {},
   "outputs": [],
   "source": [
    "#Sort the 5 Arrays Using QuickSort Algorithm and Measure How Long It Takes For Each \n",
    "\n",
    "t1_start = perf_counter()\n",
    "sorted_arr_1 = np.sort(arr_1, kind='quicksort')\n",
    "t1_stop = perf_counter() \n",
    "\n",
    "#print(\"Elapsed time during the whole program in miliseconds:\", ((t1_stop-t1_start)*1000)) \n",
    "arr_1_sort_time = ((t1_stop-t1_start)*1000)\n",
    "\n",
    "t2_start = perf_counter()\n",
    "sorted_arr_2 = np.sort(arr_2, kind='quicksort')\n",
    "t2_stop = perf_counter() \n",
    "\n",
    "arr_2_sort_time = ((t2_stop-t2_start)*1000)\n",
    "\n",
    "t3_start = perf_counter()\n",
    "sorted_arr_3 = np.sort(arr_3, kind='quicksort')\n",
    "t3_stop = perf_counter()\n",
    "\n",
    "arr_3_sort_time = ((t3_stop-t3_start)*1000)\n",
    "\n",
    "t4_start = perf_counter()\n",
    "sorted_arr_4 = np.sort(arr_4, kind='quicksort')\n",
    "t4_stop = perf_counter()\n",
    "\n",
    "arr_4_sort_time = ((t4_stop-t4_start)*1000)\n",
    "\n",
    "t5_start = perf_counter()\n",
    "sorted_arr_5 = np.sort(arr_5, kind='quicksort')\n",
    "t5_stop = perf_counter()\n",
    "\n",
    "arr_5_sort_time = ((t5_stop-t5_start)*1000)\n"
   ]
  },
  {
   "cell_type": "code",
   "execution_count": 24,
   "metadata": {},
   "outputs": [],
   "source": [
    "#arr_5_sort_time"
   ]
  },
  {
   "cell_type": "code",
   "execution_count": 25,
   "metadata": {},
   "outputs": [],
   "source": [
    "#Get the Maximum Value For Each Array to Search For Below\n",
    "\n",
    "item_arr_1 = max(sorted_arr_1)\n",
    "\n",
    "item_arr_2 = max(sorted_arr_2)\n",
    "\n",
    "item_arr_3 = max(sorted_arr_3)\n",
    "\n",
    "item_arr_4 = max(sorted_arr_4)\n",
    "\n",
    "item_arr_5 = max(sorted_arr_5)\n",
    "\n",
    "#sorted_arr_5"
   ]
  },
  {
   "cell_type": "code",
   "execution_count": 26,
   "metadata": {},
   "outputs": [],
   "source": [
    "#item_arr_5"
   ]
  },
  {
   "cell_type": "code",
   "execution_count": 27,
   "metadata": {},
   "outputs": [],
   "source": [
    "#https://github.com/egonSchiele/grokking_algorithms/blob/master/01_introduction_to_algorithms/python/01_binary_search.py\n",
    "\n",
    "#Use Grokking Algorithms Binary Search Implementation Below \n",
    "\n",
    "def binary_search(list, item):\n",
    "  # low and high keep track of which part of the list you'll search in.\n",
    "  low = 0\n",
    "  high = len(list) - 1\n",
    "\n",
    "  # While you haven't narrowed it down to one element ...\n",
    "  while low <= high:\n",
    "    # ... check the middle element\n",
    "    mid = (low + high) // 2\n",
    "    guess = list[mid]\n",
    "    # Found the item.\n",
    "    if guess == item:\n",
    "      return mid\n",
    "    # The guess was too high.\n",
    "    if guess > item:\n",
    "      high = mid - 1\n",
    "    # The guess was too low.\n",
    "    else:\n",
    "      low = mid + 1\n",
    "\n",
    "  # Item doesn't exist\n",
    "  return None\n",
    "\n",
    "#my_list = [1, 3, 5, 7, 9]\n",
    "#print(binary_search(my_list, 3)) # => 1\n",
    "\n",
    "# 'None' means nil in Python. We use to indicate that the item wasn't found.\n",
    "#print(binary_search(my_list, -1)) # => None\n",
    "\n"
   ]
  },
  {
   "cell_type": "code",
   "execution_count": 28,
   "metadata": {},
   "outputs": [],
   "source": [
    "#Use Grokking Algorithms Linear Search Implementation Below \n",
    "def linear_search(mylist, item):\n",
    "    i = 0\n",
    "    while i < len(mylist):\n",
    "        if mylist[i] == item:\n",
    "            return i\n",
    "        else:\n",
    "            i = i + 1\n",
    "    return None"
   ]
  },
  {
   "cell_type": "code",
   "execution_count": 29,
   "metadata": {},
   "outputs": [],
   "source": [
    "#Record Time to Binary Search Arrays\n",
    "\n",
    "b1_start = perf_counter()\n",
    "binary_search(sorted_arr_1, item_arr_1)\n",
    "b1_stop = perf_counter() \n",
    "\n",
    "arr_1_binary_time = ((b1_stop-b1_start)*1000)\n",
    "\n",
    "b2_start = perf_counter()\n",
    "binary_search(sorted_arr_2, item_arr_2)\n",
    "b2_stop = perf_counter() \n",
    "\n",
    "arr_2_binary_time = ((b2_stop-b2_start)*1000)\n",
    "\n",
    "b3_start = perf_counter()\n",
    "binary_search(sorted_arr_3, item_arr_3)\n",
    "b3_stop = perf_counter()\n",
    "\n",
    "arr_3_binary_time = ((b3_stop-b3_start)*1000)\n",
    "\n",
    "b4_start = perf_counter()\n",
    "binary_search(sorted_arr_4, item_arr_4)\n",
    "b4_stop = perf_counter()\n",
    "\n",
    "arr_4_binary_time = ((b4_stop-b4_start)*1000)\n",
    "\n",
    "b5_start = perf_counter()\n",
    "binary_search(sorted_arr_5, item_arr_5)\n",
    "b5_stop = perf_counter()\n",
    "\n",
    "arr_5_binary_time = ((b5_stop-b5_start)*1000)\n",
    "\n",
    "\n",
    "#https://stackoverflow.com/questions/2662140/how-to-measure-running-time-of-algorithms-in-python\n"
   ]
  },
  {
   "cell_type": "code",
   "execution_count": 30,
   "metadata": {},
   "outputs": [
    {
     "data": {
      "text/plain": [
       "0.04309999999918546"
      ]
     },
     "execution_count": 30,
     "metadata": {},
     "output_type": "execute_result"
    }
   ],
   "source": [
    "arr_1_binary_time \n"
   ]
  },
  {
   "cell_type": "code",
   "execution_count": 31,
   "metadata": {},
   "outputs": [],
   "source": [
    "#Record Time to Linear Search Arrays\n",
    "\n",
    "l1_start = perf_counter()\n",
    "linear_search(sorted_arr_1, item_arr_1)\n",
    "l1_stop = perf_counter() \n",
    "\n",
    "arr_1_linear_time = ((l1_stop-l1_start)*1000)\n",
    "\n",
    "l2_start = perf_counter()\n",
    "linear_search(sorted_arr_2, item_arr_2)\n",
    "l2_stop = perf_counter() \n",
    "\n",
    "arr_2_linear_time = ((l2_stop-l2_start)*1000)\n",
    "\n",
    "l3_start = perf_counter()\n",
    "linear_search(sorted_arr_3, item_arr_3)\n",
    "l3_stop = perf_counter()\n",
    "\n",
    "arr_3_linear_time = ((l3_stop-l3_start)*1000)\n",
    "\n",
    "l4_start = perf_counter()\n",
    "linear_search(sorted_arr_4, item_arr_4)\n",
    "l4_stop = perf_counter()\n",
    "\n",
    "arr_4_linear_time = ((l4_stop-l4_start)*1000)\n",
    "\n",
    "l5_start = perf_counter()\n",
    "linear_search(sorted_arr_5, item_arr_5)\n",
    "l5_stop = perf_counter()\n",
    "\n",
    "arr_5_linear_time = ((l5_stop-l5_start)*1000)\n",
    "\n"
   ]
  },
  {
   "cell_type": "code",
   "execution_count": 32,
   "metadata": {},
   "outputs": [],
   "source": [
    "#Quick Sanity Check \n",
    "#arr_5_linear_time"
   ]
  },
  {
   "cell_type": "code",
   "execution_count": 33,
   "metadata": {},
   "outputs": [],
   "source": [
    "#Quick Sanity Check \n",
    "#arr_5_binary_time"
   ]
  },
  {
   "cell_type": "code",
   "execution_count": null,
   "metadata": {},
   "outputs": [],
   "source": []
  },
  {
   "cell_type": "code",
   "execution_count": 34,
   "metadata": {},
   "outputs": [],
   "source": [
    "#Assemble Data for Table \n",
    "\n",
    "#Array 1 \n",
    "arr_1_1 = len(arr_1) #Length of the Array \n",
    "arr_1_2 = arr_1_sort_time #QuickSort Time of the Array \n",
    "arr_1_3 = arr_1_linear_time #Linear Search Time of the Array \n",
    "arr_1_4 = arr_1_binary_time #Binary Search Time of the Array\n",
    "arr_1_5 = arr_1_sort_time+arr_1_binary_time #QuickSort Time + Binary Search Time of the Array \n",
    "\n",
    "    #Combine Figures \n",
    "s1 = pd.Series([arr_1_1, arr_1_2, arr_1_3, arr_1_4, arr_1_5])\n",
    "\n",
    "\n",
    "#Array 2 \n",
    "arr_2_1 = len(arr_2) #Length of the Array \n",
    "arr_2_2 = arr_2_sort_time #QuickSort Time of the Array \n",
    "arr_2_3 = arr_2_linear_time #Linear Search Time of the Array \n",
    "arr_2_4 = arr_2_binary_time #Binary Search Time of the Array\n",
    "arr_2_5 = arr_2_sort_time+arr_2_binary_time #QuickSort Time + Binary Search Time of the Array \n",
    "\n",
    "    #Combine Figures \n",
    "s2 = pd.Series([arr_2_1, arr_2_2, arr_2_3, arr_2_4, arr_2_5])\n",
    "\n",
    "#Array 3 \n",
    "arr_3_1 = len(arr_3) #Length of the Array \n",
    "arr_3_2 = arr_3_sort_time #QuickSort Time of the Array \n",
    "arr_3_3 = arr_3_linear_time #Linear Search Time of the Array \n",
    "arr_3_4 = arr_3_binary_time #Binary Search Time of the Array\n",
    "arr_3_5 = arr_3_sort_time+arr_3_binary_time #QuickSort Time + Binary Search Time of the Array \n",
    "\n",
    "    #Combine Figures \n",
    "s3 = pd.Series([arr_3_1, arr_3_2, arr_3_3, arr_3_4, arr_3_5])\n",
    "\n",
    "#Array 4 \n",
    "arr_4_1 = len(arr_4) #Length of the Array \n",
    "arr_4_2 = arr_4_sort_time #QuickSort Time of the Array \n",
    "arr_4_3 = arr_4_linear_time #Linear Search Time of the Array \n",
    "arr_4_4 = arr_4_binary_time #Binary Search Time of the Array\n",
    "arr_4_5 = arr_4_sort_time+arr_4_binary_time #QuickSort Time + Binary Search Time of the Array \n",
    "\n",
    "    #Combine Figures \n",
    "s4 = pd.Series([arr_4_1, arr_4_2, arr_4_3, arr_4_4, arr_4_5])\n",
    "\n",
    "\n",
    "#Array 5 \n",
    "arr_5_1 = len(arr_5) #Length of the Array \n",
    "arr_5_2 = arr_5_sort_time #QuickSort Time of the Array \n",
    "arr_5_3 = arr_5_linear_time #Linear Search Time of the Array \n",
    "arr_5_4 = arr_5_binary_time #Binary Search Time of the Array\n",
    "arr_5_5 = arr_5_sort_time+arr_5_binary_time #QuickSort Time + Binary Search Time of the Array \n",
    "\n",
    "    #Combine Figures \n",
    "s5 = pd.Series([arr_5_1, arr_5_2, arr_5_3, arr_5_4, arr_5_5])\n",
    "\n"
   ]
  },
  {
   "cell_type": "code",
   "execution_count": 35,
   "metadata": {},
   "outputs": [
    {
     "data": {
      "text/html": [
       "<div>\n",
       "<style scoped>\n",
       "    .dataframe tbody tr th:only-of-type {\n",
       "        vertical-align: middle;\n",
       "    }\n",
       "\n",
       "    .dataframe tbody tr th {\n",
       "        vertical-align: top;\n",
       "    }\n",
       "\n",
       "    .dataframe thead th {\n",
       "        text-align: right;\n",
       "    }\n",
       "</style>\n",
       "<table border=\"1\" class=\"dataframe\">\n",
       "  <thead>\n",
       "    <tr style=\"text-align: right;\">\n",
       "      <th></th>\n",
       "      <th>Array Length</th>\n",
       "      <th>Sort Time (miliseconds)</th>\n",
       "      <th>Linear Search Time (miliseconds)</th>\n",
       "      <th>Binary Search Time (miliseconds)</th>\n",
       "      <th>Sort Time Plus Binary Search Time (miliseconds)</th>\n",
       "    </tr>\n",
       "  </thead>\n",
       "  <tbody>\n",
       "    <tr>\n",
       "      <th>0</th>\n",
       "      <td>512.0</td>\n",
       "      <td>0.1343</td>\n",
       "      <td>0.1616</td>\n",
       "      <td>0.0431</td>\n",
       "      <td>0.1774</td>\n",
       "    </tr>\n",
       "    <tr>\n",
       "      <th>1</th>\n",
       "      <td>1024.0</td>\n",
       "      <td>0.0800</td>\n",
       "      <td>0.2295</td>\n",
       "      <td>0.0279</td>\n",
       "      <td>0.1079</td>\n",
       "    </tr>\n",
       "    <tr>\n",
       "      <th>2</th>\n",
       "      <td>2048.0</td>\n",
       "      <td>0.1019</td>\n",
       "      <td>0.4677</td>\n",
       "      <td>0.0272</td>\n",
       "      <td>0.1291</td>\n",
       "    </tr>\n",
       "    <tr>\n",
       "      <th>3</th>\n",
       "      <td>4096.0</td>\n",
       "      <td>0.1949</td>\n",
       "      <td>0.8774</td>\n",
       "      <td>0.0263</td>\n",
       "      <td>0.2212</td>\n",
       "    </tr>\n",
       "    <tr>\n",
       "      <th>4</th>\n",
       "      <td>8192.0</td>\n",
       "      <td>0.3916</td>\n",
       "      <td>1.8673</td>\n",
       "      <td>0.0251</td>\n",
       "      <td>0.4167</td>\n",
       "    </tr>\n",
       "  </tbody>\n",
       "</table>\n",
       "</div>"
      ],
      "text/plain": [
       "   Array Length  Sort Time (miliseconds)  Linear Search Time (miliseconds)  \\\n",
       "0         512.0                   0.1343                            0.1616   \n",
       "1        1024.0                   0.0800                            0.2295   \n",
       "2        2048.0                   0.1019                            0.4677   \n",
       "3        4096.0                   0.1949                            0.8774   \n",
       "4        8192.0                   0.3916                            1.8673   \n",
       "\n",
       "   Binary Search Time (miliseconds)  \\\n",
       "0                            0.0431   \n",
       "1                            0.0279   \n",
       "2                            0.0272   \n",
       "3                            0.0263   \n",
       "4                            0.0251   \n",
       "\n",
       "   Sort Time Plus Binary Search Time (miliseconds)  \n",
       "0                                           0.1774  \n",
       "1                                           0.1079  \n",
       "2                                           0.1291  \n",
       "3                                           0.2212  \n",
       "4                                           0.4167  "
      ]
     },
     "execution_count": 35,
     "metadata": {},
     "output_type": "execute_result"
    }
   ],
   "source": [
    "#Build Table\n",
    "\n",
    "#Create Tables Here\n",
    "array_df = pd.DataFrame([list(s1), list(s2), list(s3), list(s4), list(s5)],  columns =  ['Array Length', 'Sort Time (miliseconds)', 'Linear Search Time (miliseconds)', 'Binary Search Time (miliseconds)', \"Sort Time Plus Binary Search Time (miliseconds)\"])\n",
    "\n",
    "\n",
    "array_df"
   ]
  },
  {
   "cell_type": "code",
   "execution_count": 36,
   "metadata": {},
   "outputs": [
    {
     "data": {
      "image/png": "[encoded data removed]",
      "text/plain": [
       "<Figure size 1476x270 with 1 Axes>"
      ]
     },
     "metadata": {},
     "output_type": "display_data"
    }
   ],
   "source": [
    "#Pretty Print the Table \n",
    "\n",
    "def render_mpl_table(data, col_width=100.0, row_height=0.625, font_size=8,\n",
    "                     header_color='#40466e', row_colors=['#f1f1f2', 'w'], edge_color='w',\n",
    "                     bbox=[0, 0, 1, 1], header_columns=0,\n",
    "                     ax=None, **kwargs):\n",
    "    if ax is None:\n",
    "        size = (np.array(data.shape[::-1]) + np.array([0, 1])) * np.array([col_width, row_height])\n",
    "        fig, ax = plt.subplots(figsize=size)\n",
    "        ax.axis('off')\n",
    "\n",
    "    mpl_table = ax.table(cellText=data.values, bbox=bbox, colLabels=data.columns, **kwargs)\n",
    "\n",
    "    mpl_table.auto_set_font_size(False)\n",
    "    mpl_table.set_fontsize(font_size)\n",
    "\n",
    "    for k, cell in  six.iteritems(mpl_table._cells):\n",
    "        cell.set_edgecolor(edge_color)\n",
    "        if k[0] == 0 or k[1] < header_columns:\n",
    "            cell.set_text_props(weight='bold', color='w')\n",
    "            cell.set_facecolor(header_color)\n",
    "        else:\n",
    "            cell.set_facecolor(row_colors[k[0]%len(row_colors) ])\n",
    "    return fig #ax\n",
    "\n",
    "\n",
    "render_mpl_table(array_df, header_columns=0, col_width=4.1).savefig(\"Array_Final_Table\") \n",
    "\n",
    "\n"
   ]
  },
  {
   "cell_type": "code",
   "execution_count": 37,
   "metadata": {},
   "outputs": [
    {
     "data": {
      "text/plain": [
       "<Figure size 432x288 with 0 Axes>"
      ]
     },
     "metadata": {},
     "output_type": "display_data"
    },
    {
     "data": {
      "image/png": "[encoded data removed]",
      "text/plain": [
       "<Figure size 432x288 with 1 Axes>"
      ]
     },
     "metadata": {},
     "output_type": "display_data"
    }
   ],
   "source": [
    "plt.clf()\n",
    "#Create and Save ScatterPlot of Array Length Versus Linear Search Time   \n",
    "fig, axis = plt.subplots()\n",
    "axis.set_xlabel('Array Length(# of units)')\n",
    "axis.set_ylabel('Linear Search Time (in miliseconds)')\n",
    "plt.title('Array Length Versus Linear Search Time')    \n",
    "scatter_plot = axis.scatter(array_df['Array Length'], \n",
    "    array_df['Linear Search Time (miliseconds)'],\n",
    "    facecolors = 'none', \n",
    "    edgecolors = 'orange') \n",
    "plt.savefig('Array_Length_Versus_Linear_Search_Time_Scatter.pdf', \n",
    "    bbox_inches = 'tight', dpi=None, facecolor='w', edgecolor='b', \n",
    "    orientation='portrait', papertype=None, format=None, \n",
    "    transparent=True, pad_inches=0.25, frameon=None)  "
   ]
  },
  {
   "cell_type": "code",
   "execution_count": 38,
   "metadata": {},
   "outputs": [
    {
     "data": {
      "text/plain": [
       "<Figure size 432x288 with 0 Axes>"
      ]
     },
     "metadata": {},
     "output_type": "display_data"
    },
    {
     "data": {
      "image/png": "[encoded data removed]",
      "text/plain": [
       "<Figure size 432x288 with 1 Axes>"
      ]
     },
     "metadata": {},
     "output_type": "display_data"
    }
   ],
   "source": [
    "plt.clf()\n",
    "#Create and Save ScatterPlot of Array Length Versus Binary Search Time   \n",
    "fig, axis = plt.subplots()\n",
    "axis.set_xlabel('Array Length(# of units)')\n",
    "axis.set_ylabel('Binary Search Time (in miliseconds)')\n",
    "plt.title('Array Length Versus Binary Search Time')    \n",
    "scatter_plot = axis.scatter(array_df['Array Length'], \n",
    "    array_df['Binary Search Time (miliseconds)'],\n",
    "    facecolors = 'none', \n",
    "    edgecolors = 'blue') \n",
    "plt.savefig('Array_Length_Versus_Binary_Search_Time_Scatter.pdf', \n",
    "    bbox_inches = 'tight', dpi=None, facecolor='w', edgecolor='b', \n",
    "    orientation='portrait', papertype=None, format=None, \n",
    "    transparent=True, pad_inches=0.25, frameon=None)  "
   ]
  },
  {
   "cell_type": "code",
   "execution_count": 39,
   "metadata": {},
   "outputs": [
    {
     "data": {
      "text/plain": [
       "<Figure size 432x288 with 0 Axes>"
      ]
     },
     "metadata": {},
     "output_type": "display_data"
    },
    {
     "data": {
      "image/png": "[encoded data removed]",
      "text/plain": [
       "<Figure size 432x288 with 1 Axes>"
      ]
     },
     "metadata": {},
     "output_type": "display_data"
    }
   ],
   "source": [
    "#Create and Save Plot Comparing Linear Versus Binary Search Performance \n",
    "\n",
    "plt.clf()\n",
    "\n",
    "x=array_df['Array Length']\n",
    "y=array_df['Linear Search Time (miliseconds)'] \n",
    "z=array_df['Binary Search Time (miliseconds)'] \n",
    "    \n",
    "fig=plt.figure()\n",
    "ax=fig.add_subplot(111)\n",
    " \n",
    "ax.plot(x,y,c='g',marker=\"*\",ls='-',label='Linear Search',fillstyle='none')\n",
    "ax.plot(x,z,c='b',marker=\"^\",ls='-',label='Binary Search',fillstyle='none')\n",
    "\n",
    "ax.set_ylabel('Performance (Miliseconds)')\n",
    "ax.set_xlabel('Array Length (# of units)')\n",
    "\n",
    "\n",
    "#ax.plot(x,x+1,c='g',marker=(8,2,0),ls='--',label='Greedy Heuristic')\n",
    "#ax.plot(x,(x+1)**2,c='k',ls='-',label='Random')\n",
    "#ax.plot(x,(x-1)**2,c='r',marker=\"v\",ls='-',label='GMC')\n",
    "#ax.plot(x,x**2-1,c='m',marker=\"o\",ls='--',label='KSTW',fillstyle='none')\n",
    "#ax.plot(x,x-1,c='k',marker=\"+\",ls=':',label='DGYC')\n",
    " \n",
    "plt.legend(loc=2)\n",
    "#plt.show()\n",
    "\n",
    "plt.savefig('Linear+Binary_Search_Performance.pdf', \n",
    "    bbox_inches = 'tight', dpi=None, facecolor='w', edgecolor='b', \n",
    "    orientation='portrait', papertype=None, format=None, \n",
    "    transparent=True, pad_inches=0.25, frameon=None)  \n",
    "\n",
    "#Used Code From Here\n",
    "#https://pydatascience.org/2017/11/24/plot-multiple-lines-in-one-chart-with-different-style-python-matplotlib/"
   ]
  },
  {
   "cell_type": "code",
   "execution_count": 40,
   "metadata": {},
   "outputs": [
    {
     "data": {
      "text/plain": [
       "<Figure size 432x288 with 0 Axes>"
      ]
     },
     "metadata": {},
     "output_type": "display_data"
    },
    {
     "data": {
      "image/png": "[encoded data removed]",
      "text/plain": [
       "<Figure size 432x288 with 1 Axes>"
      ]
     },
     "metadata": {},
     "output_type": "display_data"
    }
   ],
   "source": [
    "#Create and Save Plot Comparing Searching/Sorting Performance Overall\n",
    "\n",
    "plt.clf()\n",
    "\n",
    "x=array_df['Array Length']\n",
    "y=array_df['Sort Time (miliseconds)'] \n",
    "z1=array_df['Linear Search Time (miliseconds)'] \n",
    "z2=array_df['Binary Search Time (miliseconds)'] \n",
    "z3=array_df['Sort Time Plus Binary Search Time (miliseconds)'] \n",
    "     \n",
    "fig=plt.figure()\n",
    "ax=fig.add_subplot(111)\n",
    " \n",
    "ax.plot(x,y,c='g',marker=\"^\",ls='-',label='QuickSort',fillstyle='none')\n",
    "ax.plot(x,z1,c='b',marker=\"^\",ls='-',label='Linear Search',fillstyle='none')\n",
    "ax.plot(x,z2,c='r',marker=\"^\",ls='-',label='Binary Search',fillstyle='none')\n",
    "ax.plot(x,z3,c='y',marker=\"^\",ls='-',label='QuickSort + Binary Search',fillstyle='none')\n",
    "\n",
    "ax.set_ylabel('Performance (Miliseconds)')\n",
    "ax.set_xlabel('Array Length (# of units)')\n",
    " \n",
    "plt.legend(loc=2)\n",
    "#plt.show()\n",
    "\n",
    "plt.savefig('Total_Searching_Sorting_Performance.pdf', \n",
    "    bbox_inches = 'tight', dpi=None, facecolor='w', edgecolor='b', \n",
    "    orientation='portrait', papertype=None, format=None, \n",
    "    transparent=True, pad_inches=0.25, frameon=None)  \n",
    "\n",
    "#Used Code From Here\n",
    "#https://pydatascience.org/2017/11/24/plot-multiple-lines-in-one-chart-with-different-style-python-matplotlib/"
   ]
  }
 ],
 "metadata": {
  "kernelspec": {
   "display_name": "msds-432",
   "language": "python",
   "name": "msds-432"
  },
  "language_info": {
   "codemirror_mode": {
    "name": "ipython",
    "version": 3
   },
   "file_extension": ".py",
   "mimetype": "text/x-python",
   "name": "python",
   "nbconvert_exporter": "python",
   "pygments_lexer": "ipython3",
   "version": "3.8.3"
  }
 },
 "nbformat": 4,
 "nbformat_minor": 4
}
