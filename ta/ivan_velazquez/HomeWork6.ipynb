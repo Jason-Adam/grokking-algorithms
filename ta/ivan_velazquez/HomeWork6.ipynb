{
 "cells": [
  {
   "cell_type": "markdown",
   "metadata": {},
   "source": [
    "## Create a five level 'connections' graph (all unique, no duplicates).\n",
    "### The first level should have five people and each person in first level should have five connections (they can be exclusive to one person or shared with other members on the same level, but all five should be unique, no duplicates)\n",
    "### Each person in the second level should have five connections (they can be exclusive to one person or shared with other members on the same level, but all five should be unique, no duplicates)\n",
    "### Continue the same for third, fourth, and fifth levels\n",
    "### There should be no reverse connections (i.e. first level can connect to second level but second cannot have any reverse connection with the first, and so on for 3rd, 4th, and 5th levels)"
   ]
  },
  {
   "cell_type": "code",
   "execution_count": 2,
   "metadata": {},
   "outputs": [],
   "source": [
    "graph = {\n",
    "\"1A1\" : [\"2A1\",\"1A2\",\"1A3\",\"1A4\",\"1A5\"],\n",
    "\"1A2\" : [\"2A1\",\"2A2\",\"1A3\",\"1A4\",\"1A5\"],\n",
    "\"1A3\" : [\"2A1\",\"2A2\",\"2A3\",\"1A4\",\"1A5\"],\n",
    "\"1A4\" : [\"2A1\",\"2A2\",\"2A3\",\"2A4\",\"1A5\"],\n",
    "\"1A5\" : [\"2A1\",\"2A2\",\"2A3\",\"2A4\",\"2A5\"],\n",
    "\n",
    "\"2A1\" : [\"3A1\",\"2A2\",\"2A3\",\"2A4\",\"2A5\"],\n",
    "\"2A2\" : [\"3A1\",\"3A2\",\"2A3\",\"2A4\",\"2A5\"],\n",
    "\"2A3\" : [\"3A1\",\"3A2\",\"3A3\",\"2A4\",\"2A5\"],\n",
    "\"2A4\" : [\"3A1\",\"3A2\",\"3A3\",\"3A4\",\"2A5\"],\n",
    "\"2A5\" : [\"3A1\",\"3A2\",\"3A3\",\"3A4\",\"3A5\"],\n",
    "\n",
    "\"3A1\" : [\"4A1\",\"3A2\",\"3A3\",\"3A4\",\"3A5\"],\n",
    "\"3A2\" : [\"4A1\",\"4A2\",\"3A3\",\"3A4\",\"3A5\"],\n",
    "\"3A3\" : [\"4A1\",\"4A2\",\"4A3\",\"3A4\",\"3A5\"],\n",
    "\"3A4\" : [\"4A1\",\"4A2\",\"4A3\",\"4A4\",\"3A5\"],\n",
    "\"3A5\" : [\"4A1\",\"4A2\",\"4A3\",\"4A4\",\"4A5\"],\n",
    "\n",
    "\"4A1\" : [\"5A1\",\"4A2\",\"4A3\",\"4A4\",\"4A5\"],\n",
    "\"4A2\" : [\"5A1\",\"5A2\",\"4A3\",\"4A4\",\"4A5\"],\n",
    "\"4A3\" : [\"5A1\",\"5A2\",\"5A3\",\"4A4\",\"4A5\"],\n",
    "\"4A4\" : [\"5A1\",\"5A2\",\"5A3\",\"5A4\",\"4A5\"],\n",
    "\"4A5\" : [\"5A1\",\"5A2\",\"5A3\",\"5A4\",\"5A5\"],\n",
    "\n",
    "\"5A1\" : [\"6A1\",\"5A2\",\"5A3\",\"5A4\",\"5A5\"],\n",
    "\"5A2\" : [\"6A1\",\"6A2\",\"5A3\",\"5A4\",\"5A5\"],\n",
    "\"5A3\" : [\"6A1\",\"6A2\",\"6A3\",\"5A4\",\"5A5\"],\n",
    "\"5A4\" : [\"6A1\",\"6A2\",\"6A3\",\"6A4\",\"5A5\"],\n",
    "\"5A5\" : [\"6A1\",\"6A2\",\"6A3\",\"6A4\",\"6A5\"],\n",
    "\n",
    "\"6A1\" : [],\n",
    "\"6A2\" : [],\n",
    "\"6A3\" : [],\n",
    "\"6A4\" : [],\n",
    "\"6A5\" : [],\n",
    "\n",
    "}"
   ]
  },
  {
   "cell_type": "markdown",
   "metadata": {},
   "source": [
    "## Now search for three people on each level and capture the time for each search."
   ]
  },
  {
   "cell_type": "code",
   "execution_count": 21,
   "metadata": {},
   "outputs": [],
   "source": [
    "from collections import deque\n",
    "\n",
    "def person_is_seller(name):\n",
    "      return name[-1] == '5'\n",
    "\n",
    "def search(name):\n",
    "    search_queue = deque()\n",
    "    search_queue += graph[name]\n",
    "    # This array is how you keep track of which people you've searched before.\n",
    "    searched = []\n",
    "    while search_queue:\n",
    "        person = search_queue.popleft()\n",
    "        # Only search this person if you haven't already searched them.\n",
    "        if person not in searched:\n",
    "            if person_is_seller(person):\n",
    "                print(person + \" is a mango seller!\")\n",
    "                return True\n",
    "            else:\n",
    "                search_queue += graph[person]\n",
    "                # Marks this person as searched\n",
    "                searched.append(person)\n",
    "    return False"
   ]
  },
  {
   "cell_type": "code",
   "execution_count": 22,
   "metadata": {},
   "outputs": [
    {
     "name": "stdout",
     "output_type": "stream",
     "text": [
      "1A5 is a mango seller!\n"
     ]
    },
    {
     "data": {
      "text/plain": [
       "True"
      ]
     },
     "execution_count": 22,
     "metadata": {},
     "output_type": "execute_result"
    }
   ],
   "source": [
    "search(\"1A1\")"
   ]
  },
  {
   "cell_type": "code",
   "execution_count": 23,
   "metadata": {},
   "outputs": [
    {
     "name": "stdout",
     "output_type": "stream",
     "text": [
      "4A5 is a mango seller!\n"
     ]
    },
    {
     "data": {
      "text/plain": [
       "True"
      ]
     },
     "execution_count": 23,
     "metadata": {},
     "output_type": "execute_result"
    }
   ],
   "source": [
    "search(\"4A1\")"
   ]
  },
  {
   "cell_type": "code",
   "execution_count": 24,
   "metadata": {},
   "outputs": [
    {
     "data": {
      "text/plain": [
       "False"
      ]
     },
     "execution_count": 24,
     "metadata": {},
     "output_type": "execute_result"
    }
   ],
   "source": [
    "search(\"6A1\")"
   ]
  },
  {
   "cell_type": "code",
   "execution_count": 1,
   "metadata": {},
   "outputs": [
    {
     "data": {
      "text/plain": [
       "3125"
      ]
     },
     "execution_count": 1,
     "metadata": {},
     "output_type": "execute_result"
    }
   ],
   "source": [
    "5*5*5*5*5"
   ]
  },
  {
   "cell_type": "code",
   "execution_count": 3,
   "metadata": {},
   "outputs": [
    {
     "data": {
      "text/plain": [
       "625"
      ]
     },
     "execution_count": 3,
     "metadata": {},
     "output_type": "execute_result"
    }
   ],
   "source": [
    "5*5*5*5"
   ]
  },
  {
   "cell_type": "code",
   "execution_count": 4,
   "metadata": {},
   "outputs": [
    {
     "data": {
      "text/plain": [
       "3905"
      ]
     },
     "execution_count": 4,
     "metadata": {},
     "output_type": "execute_result"
    }
   ],
   "source": [
    "5+25+125+625+3125"
   ]
  },
  {
   "cell_type": "code",
   "execution_count": null,
   "metadata": {},
   "outputs": [],
   "source": []
  }
 ],
 "metadata": {
  "kernelspec": {
   "display_name": "msds-432",
   "language": "python",
   "name": "msds-432"
  },
  "language_info": {
   "codemirror_mode": {
    "name": "ipython",
    "version": 3
   },
   "file_extension": ".py",
   "mimetype": "text/x-python",
   "name": "python",
   "nbconvert_exporter": "python",
   "pygments_lexer": "ipython3",
   "version": "3.8.3"
  }
 },
 "nbformat": 4,
 "nbformat_minor": 4
}
