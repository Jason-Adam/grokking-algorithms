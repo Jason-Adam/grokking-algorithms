{
 "cells": [
  {
   "cell_type": "code",
   "execution_count": 1,
   "metadata": {},
   "outputs": [],
   "source": [
    "import numpy as np\n",
    "import pandas as pd\n",
    "import time\n",
    "import timeit\n",
    "\n",
    "from random import seed\n",
    "from random import random\n",
    "from random import choices\n",
    "import random\n",
    "import string\n",
    "\n",
    "import matplotlib.pyplot as plt"
   ]
  },
  {
   "cell_type": "code",
   "execution_count": 2,
   "metadata": {},
   "outputs": [],
   "source": [
    "#define functions for recursive and iterative (for loop)\n",
    "def fact_recursive(x):\n",
    "  if x == 1:\n",
    "    return 1\n",
    "  else:\n",
    "    return x * fact_recursive(x-1)\n",
    "\n",
    "def fact_iterative(x):\n",
    "    ans = 1\n",
    "    for i in range(1,x+1):\n",
    "        ans = ans * i\n",
    "    return ans\n",
    "                      "
   ]
  },
  {
   "cell_type": "code",
   "execution_count": 33,
   "metadata": {},
   "outputs": [
    {
     "data": {
      "text/plain": [
       "[142, 169, 177, 222, 271, 306, 341, 369, 385, 428]"
      ]
     },
     "execution_count": 33,
     "metadata": {},
     "output_type": "execute_result"
    }
   ],
   "source": [
    "#define a list of 10 numbers between 100 and 500\n",
    "nInt = np.random.randint(low=100, high=500, size=10)\n",
    "sorted(nInt)"
   ]
  },
  {
   "cell_type": "code",
   "execution_count": 34,
   "metadata": {},
   "outputs": [],
   "source": [
    "#define df to hold testing stats data\n",
    "alg_stats = pd.DataFrame(columns = ['n','Factorial', 'Recursive_Time', 'Iterative_Time', 'Time_Difference'])"
   ]
  },
  {
   "cell_type": "code",
   "execution_count": 37,
   "metadata": {},
   "outputs": [],
   "source": [
    "for i in nInt:\n",
    "    recStart = time.perf_counter()\n",
    "    rectFact = fact_recursive(int(i))\n",
    "    recStop = time.perf_counter()\n",
    "    recTime = (recStop - recStart)*1000\n",
    "\n",
    "    iterStart = time.perf_counter()\n",
    "    iterFact = fact_iterative(i)\n",
    "    iterStop = time.perf_counter()\n",
    "    iterTime = (iterStop - iterStart)*1000\n",
    "    \n",
    "    timeDiff = recTime - iterTime\n",
    "    \n",
    "    #if recFact == iterFact:\n",
    "    alg_stats.loc[len(alg_stats.index)] = [i, recFact, recTime, iterTime, timeDiff]\n",
    "    #else:\n",
    "     #   alg_stats.loc[len(alg_stats.index)] = [i, 'FACTORIAL MISMATCH', recTime, iterTime, timeDiff]\n"
   ]
  },
  {
   "cell_type": "code",
   "execution_count": 13,
   "metadata": {},
   "outputs": [
    {
     "data": {
      "text/html": [
       "<div>\n",
       "<style scoped>\n",
       "    .dataframe tbody tr th:only-of-type {\n",
       "        vertical-align: middle;\n",
       "    }\n",
       "\n",
       "    .dataframe tbody tr th {\n",
       "        vertical-align: top;\n",
       "    }\n",
       "\n",
       "    .dataframe thead th {\n",
       "        text-align: right;\n",
       "    }\n",
       "</style>\n",
       "<table border=\"1\" class=\"dataframe\">\n",
       "  <thead>\n",
       "    <tr style=\"text-align: right;\">\n",
       "      <th></th>\n",
       "      <th>n</th>\n",
       "      <th>Factorial</th>\n",
       "      <th>Recursive_Time</th>\n",
       "      <th>Iterative_Time</th>\n",
       "      <th>Time_Difference</th>\n",
       "    </tr>\n",
       "  </thead>\n",
       "  <tbody>\n",
       "    <tr>\n",
       "      <th>0</th>\n",
       "      <td>325.0</td>\n",
       "      <td>0.0</td>\n",
       "      <td>0.696722</td>\n",
       "      <td>0.051555</td>\n",
       "      <td>0.645167</td>\n",
       "    </tr>\n",
       "    <tr>\n",
       "      <th>1</th>\n",
       "      <td>467.0</td>\n",
       "      <td>0.0</td>\n",
       "      <td>0.636129</td>\n",
       "      <td>0.082378</td>\n",
       "      <td>0.553751</td>\n",
       "    </tr>\n",
       "    <tr>\n",
       "      <th>2</th>\n",
       "      <td>230.0</td>\n",
       "      <td>0.0</td>\n",
       "      <td>0.240874</td>\n",
       "      <td>0.031045</td>\n",
       "      <td>0.209829</td>\n",
       "    </tr>\n",
       "    <tr>\n",
       "      <th>3</th>\n",
       "      <td>117.0</td>\n",
       "      <td>0.0</td>\n",
       "      <td>0.145937</td>\n",
       "      <td>0.015871</td>\n",
       "      <td>0.130066</td>\n",
       "    </tr>\n",
       "    <tr>\n",
       "      <th>4</th>\n",
       "      <td>352.0</td>\n",
       "      <td>0.0</td>\n",
       "      <td>0.351452</td>\n",
       "      <td>0.054993</td>\n",
       "      <td>0.296459</td>\n",
       "    </tr>\n",
       "    <tr>\n",
       "      <th>5</th>\n",
       "      <td>142.0</td>\n",
       "      <td>0.0</td>\n",
       "      <td>0.192952</td>\n",
       "      <td>0.019108</td>\n",
       "      <td>0.173844</td>\n",
       "    </tr>\n",
       "    <tr>\n",
       "      <th>6</th>\n",
       "      <td>467.0</td>\n",
       "      <td>0.0</td>\n",
       "      <td>0.469354</td>\n",
       "      <td>0.079941</td>\n",
       "      <td>0.389413</td>\n",
       "    </tr>\n",
       "    <tr>\n",
       "      <th>7</th>\n",
       "      <td>325.0</td>\n",
       "      <td>0.0</td>\n",
       "      <td>0.331218</td>\n",
       "      <td>0.065794</td>\n",
       "      <td>0.265424</td>\n",
       "    </tr>\n",
       "    <tr>\n",
       "      <th>8</th>\n",
       "      <td>455.0</td>\n",
       "      <td>0.0</td>\n",
       "      <td>0.528826</td>\n",
       "      <td>0.085392</td>\n",
       "      <td>0.443434</td>\n",
       "    </tr>\n",
       "    <tr>\n",
       "      <th>9</th>\n",
       "      <td>476.0</td>\n",
       "      <td>0.0</td>\n",
       "      <td>0.563764</td>\n",
       "      <td>0.089837</td>\n",
       "      <td>0.473927</td>\n",
       "    </tr>\n",
       "    <tr>\n",
       "      <th>10</th>\n",
       "      <td>325.0</td>\n",
       "      <td>0.0</td>\n",
       "      <td>0.629166</td>\n",
       "      <td>0.050627</td>\n",
       "      <td>0.578539</td>\n",
       "    </tr>\n",
       "    <tr>\n",
       "      <th>11</th>\n",
       "      <td>467.0</td>\n",
       "      <td>0.0</td>\n",
       "      <td>0.503377</td>\n",
       "      <td>0.081542</td>\n",
       "      <td>0.421835</td>\n",
       "    </tr>\n",
       "    <tr>\n",
       "      <th>12</th>\n",
       "      <td>230.0</td>\n",
       "      <td>0.0</td>\n",
       "      <td>0.241406</td>\n",
       "      <td>0.031822</td>\n",
       "      <td>0.209584</td>\n",
       "    </tr>\n",
       "    <tr>\n",
       "      <th>13</th>\n",
       "      <td>117.0</td>\n",
       "      <td>0.0</td>\n",
       "      <td>0.148662</td>\n",
       "      <td>0.015788</td>\n",
       "      <td>0.132874</td>\n",
       "    </tr>\n",
       "    <tr>\n",
       "      <th>14</th>\n",
       "      <td>352.0</td>\n",
       "      <td>0.0</td>\n",
       "      <td>0.346720</td>\n",
       "      <td>0.055406</td>\n",
       "      <td>0.291314</td>\n",
       "    </tr>\n",
       "    <tr>\n",
       "      <th>15</th>\n",
       "      <td>142.0</td>\n",
       "      <td>0.0</td>\n",
       "      <td>0.171713</td>\n",
       "      <td>0.018739</td>\n",
       "      <td>0.152974</td>\n",
       "    </tr>\n",
       "    <tr>\n",
       "      <th>16</th>\n",
       "      <td>467.0</td>\n",
       "      <td>0.0</td>\n",
       "      <td>0.457533</td>\n",
       "      <td>0.090547</td>\n",
       "      <td>0.366986</td>\n",
       "    </tr>\n",
       "    <tr>\n",
       "      <th>17</th>\n",
       "      <td>325.0</td>\n",
       "      <td>0.0</td>\n",
       "      <td>0.332005</td>\n",
       "      <td>0.049515</td>\n",
       "      <td>0.282490</td>\n",
       "    </tr>\n",
       "    <tr>\n",
       "      <th>18</th>\n",
       "      <td>455.0</td>\n",
       "      <td>0.0</td>\n",
       "      <td>0.478339</td>\n",
       "      <td>0.079530</td>\n",
       "      <td>0.398809</td>\n",
       "    </tr>\n",
       "    <tr>\n",
       "      <th>19</th>\n",
       "      <td>476.0</td>\n",
       "      <td>0.0</td>\n",
       "      <td>0.489002</td>\n",
       "      <td>0.086177</td>\n",
       "      <td>0.402825</td>\n",
       "    </tr>\n",
       "    <tr>\n",
       "      <th>20</th>\n",
       "      <td>325.0</td>\n",
       "      <td>0.0</td>\n",
       "      <td>0.564503</td>\n",
       "      <td>0.048948</td>\n",
       "      <td>0.515555</td>\n",
       "    </tr>\n",
       "    <tr>\n",
       "      <th>21</th>\n",
       "      <td>467.0</td>\n",
       "      <td>0.0</td>\n",
       "      <td>0.463388</td>\n",
       "      <td>0.080219</td>\n",
       "      <td>0.383169</td>\n",
       "    </tr>\n",
       "    <tr>\n",
       "      <th>22</th>\n",
       "      <td>230.0</td>\n",
       "      <td>0.0</td>\n",
       "      <td>0.239459</td>\n",
       "      <td>0.030010</td>\n",
       "      <td>0.209449</td>\n",
       "    </tr>\n",
       "    <tr>\n",
       "      <th>23</th>\n",
       "      <td>117.0</td>\n",
       "      <td>0.0</td>\n",
       "      <td>0.148569</td>\n",
       "      <td>0.016079</td>\n",
       "      <td>0.132490</td>\n",
       "    </tr>\n",
       "    <tr>\n",
       "      <th>24</th>\n",
       "      <td>352.0</td>\n",
       "      <td>0.0</td>\n",
       "      <td>0.343939</td>\n",
       "      <td>0.054002</td>\n",
       "      <td>0.289937</td>\n",
       "    </tr>\n",
       "    <tr>\n",
       "      <th>25</th>\n",
       "      <td>142.0</td>\n",
       "      <td>0.0</td>\n",
       "      <td>0.167587</td>\n",
       "      <td>0.017950</td>\n",
       "      <td>0.149637</td>\n",
       "    </tr>\n",
       "    <tr>\n",
       "      <th>26</th>\n",
       "      <td>467.0</td>\n",
       "      <td>0.0</td>\n",
       "      <td>0.475685</td>\n",
       "      <td>0.082296</td>\n",
       "      <td>0.393389</td>\n",
       "    </tr>\n",
       "    <tr>\n",
       "      <th>27</th>\n",
       "      <td>325.0</td>\n",
       "      <td>0.0</td>\n",
       "      <td>0.326831</td>\n",
       "      <td>0.049357</td>\n",
       "      <td>0.277474</td>\n",
       "    </tr>\n",
       "    <tr>\n",
       "      <th>28</th>\n",
       "      <td>455.0</td>\n",
       "      <td>0.0</td>\n",
       "      <td>0.518303</td>\n",
       "      <td>0.100263</td>\n",
       "      <td>0.418040</td>\n",
       "    </tr>\n",
       "    <tr>\n",
       "      <th>29</th>\n",
       "      <td>476.0</td>\n",
       "      <td>0.0</td>\n",
       "      <td>0.911555</td>\n",
       "      <td>0.088015</td>\n",
       "      <td>0.823540</td>\n",
       "    </tr>\n",
       "    <tr>\n",
       "      <th>30</th>\n",
       "      <td>325.0</td>\n",
       "      <td>0.0</td>\n",
       "      <td>0.911555</td>\n",
       "      <td>0.052241</td>\n",
       "      <td>0.859314</td>\n",
       "    </tr>\n",
       "    <tr>\n",
       "      <th>31</th>\n",
       "      <td>467.0</td>\n",
       "      <td>0.0</td>\n",
       "      <td>0.911555</td>\n",
       "      <td>0.081505</td>\n",
       "      <td>0.830050</td>\n",
       "    </tr>\n",
       "    <tr>\n",
       "      <th>32</th>\n",
       "      <td>230.0</td>\n",
       "      <td>0.0</td>\n",
       "      <td>0.911555</td>\n",
       "      <td>0.029898</td>\n",
       "      <td>0.881657</td>\n",
       "    </tr>\n",
       "    <tr>\n",
       "      <th>33</th>\n",
       "      <td>117.0</td>\n",
       "      <td>0.0</td>\n",
       "      <td>0.911555</td>\n",
       "      <td>0.016527</td>\n",
       "      <td>0.895028</td>\n",
       "    </tr>\n",
       "    <tr>\n",
       "      <th>34</th>\n",
       "      <td>352.0</td>\n",
       "      <td>0.0</td>\n",
       "      <td>0.911555</td>\n",
       "      <td>0.055711</td>\n",
       "      <td>0.855844</td>\n",
       "    </tr>\n",
       "    <tr>\n",
       "      <th>35</th>\n",
       "      <td>142.0</td>\n",
       "      <td>0.0</td>\n",
       "      <td>0.911555</td>\n",
       "      <td>0.019218</td>\n",
       "      <td>0.892337</td>\n",
       "    </tr>\n",
       "    <tr>\n",
       "      <th>36</th>\n",
       "      <td>467.0</td>\n",
       "      <td>0.0</td>\n",
       "      <td>0.911555</td>\n",
       "      <td>0.080888</td>\n",
       "      <td>0.830667</td>\n",
       "    </tr>\n",
       "    <tr>\n",
       "      <th>37</th>\n",
       "      <td>325.0</td>\n",
       "      <td>0.0</td>\n",
       "      <td>0.911555</td>\n",
       "      <td>0.048114</td>\n",
       "      <td>0.863441</td>\n",
       "    </tr>\n",
       "    <tr>\n",
       "      <th>38</th>\n",
       "      <td>455.0</td>\n",
       "      <td>0.0</td>\n",
       "      <td>0.911555</td>\n",
       "      <td>0.076365</td>\n",
       "      <td>0.835190</td>\n",
       "    </tr>\n",
       "    <tr>\n",
       "      <th>39</th>\n",
       "      <td>476.0</td>\n",
       "      <td>0.0</td>\n",
       "      <td>0.911555</td>\n",
       "      <td>0.082121</td>\n",
       "      <td>0.829434</td>\n",
       "    </tr>\n",
       "  </tbody>\n",
       "</table>\n",
       "</div>"
      ],
      "text/plain": [
       "        n  Factorial  Recursive_Time  Iterative_Time  Time_Difference\n",
       "0   325.0        0.0        0.696722        0.051555         0.645167\n",
       "1   467.0        0.0        0.636129        0.082378         0.553751\n",
       "2   230.0        0.0        0.240874        0.031045         0.209829\n",
       "3   117.0        0.0        0.145937        0.015871         0.130066\n",
       "4   352.0        0.0        0.351452        0.054993         0.296459\n",
       "5   142.0        0.0        0.192952        0.019108         0.173844\n",
       "6   467.0        0.0        0.469354        0.079941         0.389413\n",
       "7   325.0        0.0        0.331218        0.065794         0.265424\n",
       "8   455.0        0.0        0.528826        0.085392         0.443434\n",
       "9   476.0        0.0        0.563764        0.089837         0.473927\n",
       "10  325.0        0.0        0.629166        0.050627         0.578539\n",
       "11  467.0        0.0        0.503377        0.081542         0.421835\n",
       "12  230.0        0.0        0.241406        0.031822         0.209584\n",
       "13  117.0        0.0        0.148662        0.015788         0.132874\n",
       "14  352.0        0.0        0.346720        0.055406         0.291314\n",
       "15  142.0        0.0        0.171713        0.018739         0.152974\n",
       "16  467.0        0.0        0.457533        0.090547         0.366986\n",
       "17  325.0        0.0        0.332005        0.049515         0.282490\n",
       "18  455.0        0.0        0.478339        0.079530         0.398809\n",
       "19  476.0        0.0        0.489002        0.086177         0.402825\n",
       "20  325.0        0.0        0.564503        0.048948         0.515555\n",
       "21  467.0        0.0        0.463388        0.080219         0.383169\n",
       "22  230.0        0.0        0.239459        0.030010         0.209449\n",
       "23  117.0        0.0        0.148569        0.016079         0.132490\n",
       "24  352.0        0.0        0.343939        0.054002         0.289937\n",
       "25  142.0        0.0        0.167587        0.017950         0.149637\n",
       "26  467.0        0.0        0.475685        0.082296         0.393389\n",
       "27  325.0        0.0        0.326831        0.049357         0.277474\n",
       "28  455.0        0.0        0.518303        0.100263         0.418040\n",
       "29  476.0        0.0        0.911555        0.088015         0.823540\n",
       "30  325.0        0.0        0.911555        0.052241         0.859314\n",
       "31  467.0        0.0        0.911555        0.081505         0.830050\n",
       "32  230.0        0.0        0.911555        0.029898         0.881657\n",
       "33  117.0        0.0        0.911555        0.016527         0.895028\n",
       "34  352.0        0.0        0.911555        0.055711         0.855844\n",
       "35  142.0        0.0        0.911555        0.019218         0.892337\n",
       "36  467.0        0.0        0.911555        0.080888         0.830667\n",
       "37  325.0        0.0        0.911555        0.048114         0.863441\n",
       "38  455.0        0.0        0.911555        0.076365         0.835190\n",
       "39  476.0        0.0        0.911555        0.082121         0.829434"
      ]
     },
     "execution_count": 13,
     "metadata": {},
     "output_type": "execute_result"
    }
   ],
   "source": [
    "alg_stats"
   ]
  },
  {
   "cell_type": "code",
   "execution_count": 59,
   "metadata": {},
   "outputs": [
    {
     "data": {
      "text/plain": [
       "array([307])"
      ]
     },
     "execution_count": 59,
     "metadata": {},
     "output_type": "execute_result"
    }
   ],
   "source": [
    "nInt"
   ]
  },
  {
   "cell_type": "code",
   "execution_count": 60,
   "metadata": {},
   "outputs": [
    {
     "name": "stderr",
     "output_type": "stream",
     "text": [
      "/anaconda3/lib/python3.7/site-packages/ipykernel_launcher.py:6: RuntimeWarning: overflow encountered in long_scalars\n",
      "  \n"
     ]
    }
   ],
   "source": [
    "for i in nInt:\n",
    "    recStart = time.perf_counter()\n",
    "    recFact = fact_recursive(i)\n",
    "    recStop = time.perf_counter()\n",
    "    recTime = (recStop - recStart)*1000"
   ]
  },
  {
   "cell_type": "code",
   "execution_count": 61,
   "metadata": {},
   "outputs": [
    {
     "data": {
      "text/html": [
       "<div>\n",
       "<style scoped>\n",
       "    .dataframe tbody tr th:only-of-type {\n",
       "        vertical-align: middle;\n",
       "    }\n",
       "\n",
       "    .dataframe tbody tr th {\n",
       "        vertical-align: top;\n",
       "    }\n",
       "\n",
       "    .dataframe thead th {\n",
       "        text-align: right;\n",
       "    }\n",
       "</style>\n",
       "<table border=\"1\" class=\"dataframe\">\n",
       "  <thead>\n",
       "    <tr style=\"text-align: right;\">\n",
       "      <th></th>\n",
       "      <th>n</th>\n",
       "      <th>Factorial</th>\n",
       "      <th>Recursive_Time</th>\n",
       "      <th>Iterative_Time</th>\n",
       "      <th>Time_Difference</th>\n",
       "    </tr>\n",
       "  </thead>\n",
       "  <tbody>\n",
       "    <tr>\n",
       "      <th>0</th>\n",
       "      <td>307.0</td>\n",
       "      <td>0.0</td>\n",
       "      <td>0.593123</td>\n",
       "      <td>0.053428</td>\n",
       "      <td>0.539695</td>\n",
       "    </tr>\n",
       "  </tbody>\n",
       "</table>\n",
       "</div>"
      ],
      "text/plain": [
       "       n  Factorial  Recursive_Time  Iterative_Time  Time_Difference\n",
       "0  307.0        0.0        0.593123        0.053428         0.539695"
      ]
     },
     "execution_count": 61,
     "metadata": {},
     "output_type": "execute_result"
    }
   ],
   "source": [
    "alg_stats"
   ]
  },
  {
   "cell_type": "code",
   "execution_count": 62,
   "metadata": {},
   "outputs": [
    {
     "data": {
      "text/plain": [
       "0"
      ]
     },
     "execution_count": 62,
     "metadata": {},
     "output_type": "execute_result"
    }
   ],
   "source": [
    "recFact \n"
   ]
  },
  {
   "cell_type": "code",
   "execution_count": 63,
   "metadata": {},
   "outputs": [
    {
     "data": {
      "text/plain": [
       "73426416890084145867761162634516656253192925392109155339526166608204328115210648620115433358642763793076529460817472595114923510833290790930599332273229414394970238085324340218228532898561068441538946224218780887629684690308097777286274964283392508724393857067379782920123539953962052181207649376957415390534731573146566788484378929310114530370257106324571745835955523543518562188929010397741993617566254654750855933026779633094412343870986483578713437854743333864208524120552529748561819201627809740416667561144303340631557152241246838701727072270705229824000000000000000000000000000000000000000000000000000000000000000000000000000"
      ]
     },
     "execution_count": 63,
     "metadata": {},
     "output_type": "execute_result"
    }
   ],
   "source": [
    "iterFact"
   ]
  },
  {
   "cell_type": "code",
   "execution_count": 64,
   "metadata": {},
   "outputs": [],
   "source": [
    "tempR = fact_recursive(307)\n",
    "tempI = fact_iterative(307)"
   ]
  },
  {
   "cell_type": "code",
   "execution_count": 65,
   "metadata": {},
   "outputs": [
    {
     "data": {
      "text/plain": [
       "73426416890084145867761162634516656253192925392109155339526166608204328115210648620115433358642763793076529460817472595114923510833290790930599332273229414394970238085324340218228532898561068441538946224218780887629684690308097777286274964283392508724393857067379782920123539953962052181207649376957415390534731573146566788484378929310114530370257106324571745835955523543518562188929010397741993617566254654750855933026779633094412343870986483578713437854743333864208524120552529748561819201627809740416667561144303340631557152241246838701727072270705229824000000000000000000000000000000000000000000000000000000000000000000000000000"
      ]
     },
     "execution_count": 65,
     "metadata": {},
     "output_type": "execute_result"
    }
   ],
   "source": [
    "tempR"
   ]
  },
  {
   "cell_type": "code",
   "execution_count": 66,
   "metadata": {},
   "outputs": [
    {
     "data": {
      "text/plain": [
       "73426416890084145867761162634516656253192925392109155339526166608204328115210648620115433358642763793076529460817472595114923510833290790930599332273229414394970238085324340218228532898561068441538946224218780887629684690308097777286274964283392508724393857067379782920123539953962052181207649376957415390534731573146566788484378929310114530370257106324571745835955523543518562188929010397741993617566254654750855933026779633094412343870986483578713437854743333864208524120552529748561819201627809740416667561144303340631557152241246838701727072270705229824000000000000000000000000000000000000000000000000000000000000000000000000000"
      ]
     },
     "execution_count": 66,
     "metadata": {},
     "output_type": "execute_result"
    }
   ],
   "source": [
    "tempI"
   ]
  },
  {
   "cell_type": "code",
   "execution_count": 67,
   "metadata": {},
   "outputs": [
    {
     "name": "stdout",
     "output_type": "stream",
     "text": [
      "works\n"
     ]
    }
   ],
   "source": [
    "if tempR == tempI:\n",
    "    print ('works')\n",
    "else:\n",
    "    primt ('nope')"
   ]
  },
  {
   "cell_type": "code",
   "execution_count": null,
   "metadata": {},
   "outputs": [],
   "source": []
  }
 ],
 "metadata": {
  "kernelspec": {
   "display_name": "msds-432",
   "language": "python",
   "name": "msds-432"
  },
  "language_info": {
   "codemirror_mode": {
    "name": "ipython",
    "version": 3
   },
   "file_extension": ".py",
   "mimetype": "text/x-python",
   "name": "python",
   "nbconvert_exporter": "python",
   "pygments_lexer": "ipython3",
   "version": "3.8.3"
  }
 },
 "nbformat": 4,
 "nbformat_minor": 4
}
