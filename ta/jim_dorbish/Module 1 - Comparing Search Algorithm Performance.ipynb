{
 "cells": [
  {
   "cell_type": "code",
   "execution_count": 1,
   "metadata": {},
   "outputs": [],
   "source": [
    "import numpy as np\n",
    "from random import seed\n",
    "from random import random\n",
    "np.random.seed(12345)\n",
    "import pandas as pd\n",
    "import time\n",
    "import timeit\n",
    "from time import perf_counter\n",
    "import matplotlib.pyplot as plt "
   ]
  },
  {
   "cell_type": "code",
   "execution_count": 3,
   "metadata": {},
   "outputs": [],
   "source": [
    "def binary_search(mylist, item):\n",
    "    \n",
    "  # low and high keep track of which part of the list you'll search in.\n",
    "  low_idx = 0\n",
    "  high_idx = len(mylist) - 1\n",
    "  \n",
    "  ## Added by Lance\n",
    "  counter = 0\n",
    "  ## Added by Lance\n",
    "\n",
    "  # While you haven't narrowed it down to one element ...\n",
    "  while low_idx <= high_idx:\n",
    "    # ... check the middle element\n",
    "    mid_idx = (low_idx + high_idx) // 2\n",
    "    guess = mylist[mid_idx]\n",
    "    \n",
    "    counter = counter + 1\n",
    "    \n",
    "    # Found the item.\n",
    "    if guess == item:\n",
    "      return mid_idx\n",
    "    # The guess was too high.\n",
    "    if guess > item:\n",
    "      high_idx = mid_idx - 1\n",
    "    # The guess was too low.\n",
    "    else:\n",
    "      low_idx = mid_idx + 1\n",
    "      \n",
    "    ## Added by Lance\n",
    "    #print(\"counter: {0}\\nmid index: {1}\\nmid value: {2}\\nNew search set is now {3}\\n\".format(counter, mid_idx, mylist[mid_idx], mylist[low_idx:high_idx+1]))\n",
    "    ## Added by Lance\n",
    "\n",
    "  # Item doesn't exist\n",
    "  return None\n",
    "\n",
    "\n",
    "def linear_search(mylist, item):\n",
    "    i = 0\n",
    "    while i < len(mylist):\n",
    "        if mylist[i] == item:\n",
    "            return i\n",
    "        else:\n",
    "            i = i + 1\n",
    "        ## Added by Lance\n",
    "        #print(\"counter {0}\\nNew search set is {1}\\n\".format(i, list[i:]))\n",
    "        ## Added by Lance\n",
    "        \n",
    "    return None"
   ]
  },
  {
   "cell_type": "code",
   "execution_count": 4,
   "metadata": {},
   "outputs": [],
   "source": [
    "array_counts = [512, 1024]\n",
    "\n",
    "for count in array_counts:\n",
    "    # Create array and time it\n",
    "    sort1start = perf_counter()\n",
    "    ar1 = np.sort(np.random.randint(1, 10000, count))\n",
    "    sort1end = perf_counter()\n",
    "    \n",
    "    # Binary search and time it\n",
    "    start_time1 = perf_counter()\n",
    "    binary_search(ar1, max(ar1))\n",
    "    end_time1 = perf_counter()\n",
    "    binary_search_time = end_time1 - start_time1\n",
    "    \n",
    "    # Simple search and timeit\n",
    "    st1 = perf_counter()\n",
    "    print(linear_search(ar1, max(ar1)))\n",
    "    en1 = perf_counter()\n",
    "    print(en1 - st1)"
   ]
  },
  {
   "cell_type": "markdown",
   "metadata": {},
   "source": [
    "# Binary Search"
   ]
  },
  {
   "cell_type": "markdown",
   "metadata": {},
   "source": [
    "### Find max value in array1 (ar1) with time to completion using binary search"
   ]
  },
  {
   "cell_type": "code",
   "execution_count": 5,
   "metadata": {},
   "outputs": [
    {
     "name": "stdout",
     "output_type": "stream",
     "text": [
      "511\n",
      "0.0004779509999934817\n"
     ]
    }
   ],
   "source": [
    "start_time1 = perf_counter()\n",
    "print(binary_search(ar1, max(ar1)))\n",
    "end_time1 = perf_counter()\n",
    "print(end_time1 - start_time1)"
   ]
  },
  {
   "cell_type": "markdown",
   "metadata": {},
   "source": [
    "### Find max value in array2 (ar2) with time to completion using binary search"
   ]
  },
  {
   "cell_type": "code",
   "execution_count": 6,
   "metadata": {},
   "outputs": [
    {
     "name": "stdout",
     "output_type": "stream",
     "text": [
      "1023\n",
      "0.00048413899992283405\n"
     ]
    }
   ],
   "source": [
    "start_time2 = perf_counter()\n",
    "print(binary_search(ar2, max(ar2)))\n",
    "end_time2 = perf_counter()\n",
    "print(end_time2 - start_time2)"
   ]
  },
  {
   "cell_type": "markdown",
   "metadata": {},
   "source": [
    "### Find max value in array3 (ar3) with time to completion using binary search"
   ]
  },
  {
   "cell_type": "code",
   "execution_count": 7,
   "metadata": {},
   "outputs": [
    {
     "name": "stdout",
     "output_type": "stream",
     "text": [
      "2047\n",
      "0.0009498580000126822\n"
     ]
    }
   ],
   "source": [
    "start_time3 = perf_counter()\n",
    "print(binary_search(ar3, max(ar3)))\n",
    "end_time3 = perf_counter()\n",
    "print(end_time3 - start_time3)"
   ]
  },
  {
   "cell_type": "markdown",
   "metadata": {},
   "source": [
    "### Find max value in array4 (ar4) with time to completion using binary search"
   ]
  },
  {
   "cell_type": "code",
   "execution_count": 8,
   "metadata": {},
   "outputs": [
    {
     "name": "stdout",
     "output_type": "stream",
     "text": [
      "4095\n",
      "0.001206253000077595\n"
     ]
    }
   ],
   "source": [
    "start_time4 = perf_counter()\n",
    "print(binary_search(ar4, max(ar4)))\n",
    "end_time4 = perf_counter()\n",
    "print(end_time4 - start_time4)"
   ]
  },
  {
   "cell_type": "markdown",
   "metadata": {},
   "source": [
    "### Find max value in array5 (ar5) with time to completion using binary search"
   ]
  },
  {
   "cell_type": "code",
   "execution_count": 9,
   "metadata": {},
   "outputs": [
    {
     "name": "stdout",
     "output_type": "stream",
     "text": [
      "8190\n",
      "0.0014535369999748582\n"
     ]
    }
   ],
   "source": [
    "start_time5 = perf_counter()\n",
    "print(binary_search(ar5, max(ar5)))\n",
    "end_time5 = perf_counter()\n",
    "print(end_time5 - start_time5)"
   ]
  },
  {
   "cell_type": "markdown",
   "metadata": {},
   "source": [
    "### Binary Search time"
   ]
  },
  {
   "cell_type": "code",
   "execution_count": 10,
   "metadata": {},
   "outputs": [],
   "source": [
    "ar1tim = end_time1-start_time1\n",
    "ar2tim = end_time2-start_time2\n",
    "ar3tim = end_time3-start_time3\n",
    "ar4tim = end_time4-start_time4\n",
    "ar5tim = end_time5-start_time5"
   ]
  },
  {
   "cell_type": "markdown",
   "metadata": {},
   "source": [
    "### Array sort time"
   ]
  },
  {
   "cell_type": "code",
   "execution_count": 11,
   "metadata": {},
   "outputs": [],
   "source": [
    "sort1tim = sort1end-sort1start\n",
    "sort2tim = sort2end-sort2start\n",
    "sort3tim = sort3end-sort3start\n",
    "sort4tim = sort4end-sort4start\n",
    "sort5tim = sort5end-sort5start"
   ]
  },
  {
   "cell_type": "markdown",
   "metadata": {},
   "source": [
    "# Linear Search"
   ]
  },
  {
   "cell_type": "markdown",
   "metadata": {},
   "source": [
    "### Find max value in array1 (ar1) with time to completion using linear search"
   ]
  },
  {
   "cell_type": "code",
   "execution_count": 12,
   "metadata": {},
   "outputs": [
    {
     "name": "stdout",
     "output_type": "stream",
     "text": [
      "511\n",
      "0.0005839480000986441\n"
     ]
    }
   ],
   "source": [
    "st1 = perf_counter()\n",
    "print(linear_search(ar1, max(ar1)))\n",
    "en1 = perf_counter()\n",
    "print(en1 - st1)"
   ]
  },
  {
   "cell_type": "markdown",
   "metadata": {},
   "source": [
    "### Find max value in array2 (ar2) with time to completion using linear search"
   ]
  },
  {
   "cell_type": "code",
   "execution_count": 13,
   "metadata": {},
   "outputs": [
    {
     "name": "stdout",
     "output_type": "stream",
     "text": [
      "1023\n",
      "0.0008914670000876868\n"
     ]
    }
   ],
   "source": [
    "st2 = perf_counter()\n",
    "print(linear_search(ar2, max(ar2)))\n",
    "en2 = perf_counter()\n",
    "print(en2 - st2)"
   ]
  },
  {
   "cell_type": "markdown",
   "metadata": {},
   "source": [
    "### Find max value in array3 (ar3) with time to completion using linear search"
   ]
  },
  {
   "cell_type": "code",
   "execution_count": 14,
   "metadata": {},
   "outputs": [
    {
     "name": "stdout",
     "output_type": "stream",
     "text": [
      "2047\n",
      "0.001397577000034289\n"
     ]
    }
   ],
   "source": [
    "st3 = perf_counter()\n",
    "print(linear_search(ar3, max(ar3)))\n",
    "en3 = perf_counter()\n",
    "print(en3 - st3)"
   ]
  },
  {
   "cell_type": "markdown",
   "metadata": {},
   "source": [
    "### Find max value in array4 (ar4) with time to completion using linear search"
   ]
  },
  {
   "cell_type": "code",
   "execution_count": 15,
   "metadata": {},
   "outputs": [
    {
     "name": "stdout",
     "output_type": "stream",
     "text": [
      "4095\n",
      "0.0026425099999869417\n"
     ]
    }
   ],
   "source": [
    "st4 = perf_counter()\n",
    "print(linear_search(ar4, max(ar4)))\n",
    "en4 = perf_counter()\n",
    "print(en4 - st4)"
   ]
  },
  {
   "cell_type": "markdown",
   "metadata": {},
   "source": [
    "### Find max value in array5 (ar5) with time to completion using linear search"
   ]
  },
  {
   "cell_type": "code",
   "execution_count": 16,
   "metadata": {},
   "outputs": [
    {
     "name": "stdout",
     "output_type": "stream",
     "text": [
      "8190\n",
      "0.004807067999990977\n"
     ]
    }
   ],
   "source": [
    "st5 = perf_counter()\n",
    "print(linear_search(ar5, max(ar5)))\n",
    "en5 = perf_counter()\n",
    "print(en5 - st5)"
   ]
  },
  {
   "cell_type": "markdown",
   "metadata": {},
   "source": [
    "### Linear Search time"
   ]
  },
  {
   "cell_type": "code",
   "execution_count": 17,
   "metadata": {},
   "outputs": [],
   "source": [
    "lin1 = en1 - st1\n",
    "lin2 = en2 - st2\n",
    "lin3 = en3 - st3\n",
    "lin4 = en4 - st4\n",
    "lin5 = en5 - st5"
   ]
  },
  {
   "cell_type": "code",
   "execution_count": 18,
   "metadata": {},
   "outputs": [],
   "source": [
    "tbl = pd.DataFrame(\n",
    "    columns= [\n",
    "        'Length of Random Number Array', \n",
    "        'Sort Time', \n",
    "        'Linear Search Time for Sorted Array', \n",
    "        'Binary Search Time for Sorted Array',\n",
    "    ], \n",
    "    index=['Array_1','Array_2','Array_3','Array_4','Array_5']\n",
    ")"
   ]
  },
  {
   "cell_type": "markdown",
   "metadata": {},
   "source": [
    "# Table Containing 5 columns of descriptive search data"
   ]
  },
  {
   "cell_type": "code",
   "execution_count": 19,
   "metadata": {},
   "outputs": [
    {
     "data": {
      "text/html": [
       "<div>\n",
       "<style scoped>\n",
       "    .dataframe tbody tr th:only-of-type {\n",
       "        vertical-align: middle;\n",
       "    }\n",
       "\n",
       "    .dataframe tbody tr th {\n",
       "        vertical-align: top;\n",
       "    }\n",
       "\n",
       "    .dataframe thead th {\n",
       "        text-align: right;\n",
       "    }\n",
       "</style>\n",
       "<table border=\"1\" class=\"dataframe\">\n",
       "  <thead>\n",
       "    <tr style=\"text-align: right;\">\n",
       "      <th></th>\n",
       "      <th>Length of Random Number Array</th>\n",
       "      <th>Sort Time</th>\n",
       "      <th>Linear Search Time for Sorted Array</th>\n",
       "      <th>Binary Search Time for Sorted Array</th>\n",
       "    </tr>\n",
       "  </thead>\n",
       "  <tbody>\n",
       "    <tr>\n",
       "      <th>Array_1</th>\n",
       "      <td>512</td>\n",
       "      <td>0.000494632</td>\n",
       "      <td>0.000583948</td>\n",
       "      <td>0.000477951</td>\n",
       "    </tr>\n",
       "    <tr>\n",
       "      <th>Array_2</th>\n",
       "      <td>1024</td>\n",
       "      <td>0.000394039</td>\n",
       "      <td>0.000891467</td>\n",
       "      <td>0.000484139</td>\n",
       "    </tr>\n",
       "    <tr>\n",
       "      <th>Array_3</th>\n",
       "      <td>2048</td>\n",
       "      <td>0.000558538</td>\n",
       "      <td>0.00139758</td>\n",
       "      <td>0.000949858</td>\n",
       "    </tr>\n",
       "    <tr>\n",
       "      <th>Array_4</th>\n",
       "      <td>4096</td>\n",
       "      <td>0.000556086</td>\n",
       "      <td>0.00264251</td>\n",
       "      <td>0.00120625</td>\n",
       "    </tr>\n",
       "    <tr>\n",
       "      <th>Array_5</th>\n",
       "      <td>8192</td>\n",
       "      <td>0.000754941</td>\n",
       "      <td>0.00480707</td>\n",
       "      <td>0.00145354</td>\n",
       "    </tr>\n",
       "  </tbody>\n",
       "</table>\n",
       "</div>"
      ],
      "text/plain": [
       "        Length of Random Number Array    Sort Time  \\\n",
       "Array_1                           512  0.000494632   \n",
       "Array_2                          1024  0.000394039   \n",
       "Array_3                          2048  0.000558538   \n",
       "Array_4                          4096  0.000556086   \n",
       "Array_5                          8192  0.000754941   \n",
       "\n",
       "        Linear Search Time for Sorted Array  \\\n",
       "Array_1                         0.000583948   \n",
       "Array_2                         0.000891467   \n",
       "Array_3                          0.00139758   \n",
       "Array_4                          0.00264251   \n",
       "Array_5                          0.00480707   \n",
       "\n",
       "        Binary Search Time for Sorted Array  \n",
       "Array_1                         0.000477951  \n",
       "Array_2                         0.000484139  \n",
       "Array_3                         0.000949858  \n",
       "Array_4                          0.00120625  \n",
       "Array_5                          0.00145354  "
      ]
     },
     "execution_count": 19,
     "metadata": {},
     "output_type": "execute_result"
    }
   ],
   "source": [
    "tbl.loc['Array_1'] = [len(ar1), sort1tim, lin1, ar1tim]\n",
    "tbl.loc['Array_2'] = [len(ar2), sort2tim, lin2, ar2tim]\n",
    "tbl.loc['Array_3'] = [len(ar3), sort3tim, lin3, ar3tim]\n",
    "tbl.loc['Array_4'] = [len(ar4), sort4tim, lin4, ar4tim]\n",
    "tbl.loc['Array_5'] = [len(ar5), sort5tim, lin5, ar5tim]\n",
    "tbl"
   ]
  },
  {
   "cell_type": "code",
   "execution_count": 20,
   "metadata": {},
   "outputs": [
    {
     "data": {
      "text/plain": [
       "<matplotlib.legend.Legend at 0x12400f340>"
      ]
     },
     "execution_count": 20,
     "metadata": {},
     "output_type": "execute_result"
    },
    {
     "data": {
      "image/png": "[encoded data removed]",
      "text/plain": [
       "<Figure size 720x360 with 1 Axes>"
      ]
     },
     "metadata": {
      "needs_background": "light"
     },
     "output_type": "display_data"
    }
   ],
   "source": [
    "fig, ax = plt.subplots(figsize=(10,5))\n",
    "ax.plot(tbl[\"Length of Random Number Array\"], tbl[\"Linear Search Time for Sorted Array\"], color=\"darkgreen\")\n",
    "ax.plot(tbl[\"Length of Random Number Array\"], tbl[\"Binary Search Time for Sorted Array\"], color=\"orange\")\n",
    "ax.legend([\"Simple Search O(N)\", \"Binary Search O(log2 N)\"])"
   ]
  },
  {
   "cell_type": "code",
   "execution_count": null,
   "metadata": {},
   "outputs": [],
   "source": []
  }
 ],
 "metadata": {
  "hide_input": false,
  "kernelspec": {
   "display_name": "msds-432",
   "language": "python",
   "name": "msds-432"
  },
  "language_info": {
   "codemirror_mode": {
    "name": "ipython",
    "version": 3
   },
   "file_extension": ".py",
   "mimetype": "text/x-python",
   "name": "python",
   "nbconvert_exporter": "python",
   "pygments_lexer": "ipython3",
   "version": "3.8.3"
  },
  "toc": {
   "base_numbering": 1,
   "nav_menu": {},
   "number_sections": true,
   "sideBar": true,
   "skip_h1_title": false,
   "title_cell": "Table of Contents",
   "title_sidebar": "Contents",
   "toc_cell": false,
   "toc_position": {},
   "toc_section_display": true,
   "toc_window_display": false
  },
  "varInspector": {
   "cols": {
    "lenName": 16,
    "lenType": 16,
    "lenVar": 40
   },
   "kernels_config": {
    "python": {
     "delete_cmd_postfix": "",
     "delete_cmd_prefix": "del ",
     "library": "var_list.py",
     "varRefreshCmd": "print(var_dic_list())"
    },
    "r": {
     "delete_cmd_postfix": ") ",
     "delete_cmd_prefix": "rm(",
     "library": "var_list.r",
     "varRefreshCmd": "cat(var_dic_list()) "
    }
   },
   "types_to_exclude": [
    "module",
    "function",
    "builtin_function_or_method",
    "instance",
    "_Feature"
   ],
   "window_display": false
  }
 },
 "nbformat": 4,
 "nbformat_minor": 4
}
